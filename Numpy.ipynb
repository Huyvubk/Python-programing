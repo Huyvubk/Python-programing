{
  "nbformat": 4,
  "nbformat_minor": 0,
  "metadata": {
    "kernelspec": {
      "display_name": "Python 3",
      "language": "python",
      "name": "python3"
    },
    "language_info": {
      "codemirror_mode": {
        "name": "ipython",
        "version": 3
      },
      "file_extension": ".py",
      "mimetype": "text/x-python",
      "name": "python",
      "nbconvert_exporter": "python",
      "pygments_lexer": "ipython3",
      "version": "3.8.8"
    },
    "colab": {
      "provenance": [],
      "include_colab_link": true
    }
  },
  "cells": [
    {
      "cell_type": "markdown",
      "metadata": {
        "id": "view-in-github",
        "colab_type": "text"
      },
      "source": [
        "<a href=\"https://colab.research.google.com/github/Huyvubk/Python-programing/blob/main/Numpy.ipynb\" target=\"_parent\"><img src=\"https://colab.research.google.com/assets/colab-badge.svg\" alt=\"Open In Colab\"/></a>"
      ]
    },
    {
      "cell_type": "code",
      "metadata": {
        "id": "cRY-8giB1fFM",
        "colab": {
          "base_uri": "https://localhost:8080/"
        },
        "outputId": "4e946cb9-aea7-490c-f502-81784ffab986"
      },
      "source": [
        "# câu 1 : import module numpy và in ra version \n",
        "\n",
        "import numpy as np\n",
        "import numpy\n",
        "print (numpy.version.version)\n"
      ],
      "execution_count": null,
      "outputs": [
        {
          "output_type": "stream",
          "text": [
            "1.19.5\n"
          ],
          "name": "stdout"
        }
      ]
    },
    {
      "cell_type": "code",
      "metadata": {
        "id": "UxjS-wpo1fFO",
        "colab": {
          "base_uri": "https://localhost:8080/"
        },
        "outputId": "957893c4-0580-4396-9b5e-df4809790bb2"
      },
      "source": [
        "# câu 2 : Tạo mảng 1 chiều từ 0 đến 9\n",
        "\n",
        "import numpy as np\n",
        "data = np.arange(0,10)\n",
        "print(data)\n",
        "print(data.shape)\n",
        "print(type(data.dtype))"
      ],
      "execution_count": null,
      "outputs": [
        {
          "output_type": "stream",
          "text": [
            "[0 1 2 3 4 5 6 7 8 9]\n",
            "(10,)\n",
            "<class 'numpy.dtype'>\n"
          ],
          "name": "stdout"
        }
      ]
    },
    {
      "cell_type": "code",
      "metadata": {
        "id": "Nj77snqq1fFP",
        "colab": {
          "base_uri": "https://localhost:8080/"
        },
        "outputId": "bf67e94e-6b95-447f-a5aa-e55f85c947ac"
      },
      "source": [
        "# câu 3: Tạo một mảng boolean 3x3 với tất cả giá trị là True\n",
        "\n",
        "import numpy as np\n",
        "\n",
        "# Cách 1 :\n",
        "arr1 = np.array([(True,True,True), (True,True,True),(True,True,True)], dtype = bool)\n",
        "print(arr1)\n",
        "\n",
        "# Cách 2 : \n",
        "arr2 = np.full((3,3),True,dtype=bool)\n",
        "print(arr2)\n",
        "\n",
        "# Cách 3:\n",
        "arr3=np.ones((3, 3), dtype=bool)\n",
        "print(arr3)\n"
      ],
      "execution_count": null,
      "outputs": [
        {
          "output_type": "stream",
          "text": [
            "[[ True  True  True]\n",
            " [ True  True  True]\n",
            " [ True  True  True]]\n",
            "[[ True  True  True]\n",
            " [ True  True  True]\n",
            " [ True  True  True]]\n",
            "[[ True  True  True]\n",
            " [ True  True  True]\n",
            " [ True  True  True]]\n"
          ],
          "name": "stdout"
        }
      ]
    },
    {
      "cell_type": "code",
      "metadata": {
        "id": "X6djDsyb1fFQ",
        "colab": {
          "base_uri": "https://localhost:8080/"
        },
        "outputId": "6a0c77f6-884a-4d72-a3bf-c57916606a8e"
      },
      "source": [
        "# câu 4 : Lấy những phần tử mà thoả mãn một điều kiện cho trước của mảng một chiều\n",
        "\n",
        "import numpy as np\n",
        "\n",
        "# tạo mảng một chiều từ 0 đến 9\n",
        "arr = np.arange(10)\n",
        "arr_chan = []\n",
        "arr_le = []\n",
        "print(arr)\n",
        "# Tìm phần tử có giá rị lẻ \n",
        "for x in arr:\n",
        "  if x % 2 == 0:\n",
        "        arr_chan.append(x)\n",
        "  else:\n",
        "        arr_le.append(x)\n",
        "print(arr_chan)\n",
        "print(arr_le)\n",
        "# Tìm phần tử có giá rị lẻ \n",
        "arr1 =arr[arr%2] == 1\n",
        "print(arr1)\n"
      ],
      "execution_count": null,
      "outputs": [
        {
          "output_type": "stream",
          "text": [
            "[0 1 2 3 4 5 6 7 8 9]\n",
            "[0, 2, 4, 6, 8]\n",
            "[1, 3, 5, 7, 9]\n",
            "[False  True False  True False  True False  True False  True]\n"
          ],
          "name": "stdout"
        }
      ]
    },
    {
      "cell_type": "code",
      "metadata": {
        "id": "_bVwxRia1fFR",
        "colab": {
          "base_uri": "https://localhost:8080/"
        },
        "outputId": "d5fee7c0-2b8d-4e25-e10b-65d7bb744bd1"
      },
      "source": [
        "# câu 5 : Thay thế phần tử thoả mãn điều kiện cho trước bằng 1 một giá khác\n",
        "\n",
        "import numpy as np\n",
        "\n",
        "# tạo mảng một chiều từ 0 đến 9\n",
        "arr = np.arange(10)\n",
        "print(arr)\n",
        "# cách 1\n",
        "# Thay thế phần tử có giá trị lẻ bằng -1\n",
        "arr[arr%2==1] = -1\n",
        "arr\n"
      ],
      "execution_count": null,
      "outputs": [
        {
          "output_type": "stream",
          "text": [
            "[0 1 2 3 4 5 6 7 8 9]\n"
          ],
          "name": "stdout"
        },
        {
          "output_type": "execute_result",
          "data": {
            "text/plain": [
              "array([ 0, -1,  2, -1,  4, -1,  6, -1,  8, -1])"
            ]
          },
          "metadata": {},
          "execution_count": 3
        }
      ]
    },
    {
      "cell_type": "code",
      "metadata": {
        "id": "K_x5iBvD1fFR",
        "colab": {
          "base_uri": "https://localhost:8080/"
        },
        "outputId": "ba6dc624-ccc7-453a-afd8-be89144d7da9"
      },
      "source": [
        "# câu 6 : Thay thế phần tử thoả mãn điều kiện cho trước bằng 1 một giá khác \n",
        "# nhưng không thay đổi mảng ban đầu\n",
        "\n",
        "# Thay thế tất cả số lẻ bằng giá trị -1 nhưng mảng ban đầu không thay đổi\n",
        "\n",
        "import numpy as np\n",
        "\n",
        "# tạo mảng một chiều từ 0 đến 9\n",
        "arr = np.arange(10)\n",
        "arr_coppy=arr.copy()\n",
        "print(arr)\n",
        "print(arr_coppy)\n",
        "arr[arr%2==1] = -1\n",
        "arr\n",
        "# # Cách 2 :\n",
        "arr_out = np.where(arr%2==1,-1,arr)\n",
        "print(arr_out)\n",
        "\n"
      ],
      "execution_count": null,
      "outputs": [
        {
          "output_type": "stream",
          "text": [
            "[0 1 2 3 4 5 6 7 8 9]\n",
            "[0 1 2 3 4 5 6 7 8 9]\n",
            "[ 0 -1  2 -1  4 -1  6 -1  8 -1]\n"
          ],
          "name": "stdout"
        }
      ]
    },
    {
      "cell_type": "code",
      "metadata": {
        "id": "rLWAFgsq1fFS"
      },
      "source": [
        "# câu 7 : Định dạng/chuyển mảng\n",
        "\n",
        "# Chuyển mảng 1 chiều thành mảng 2 chiều có 2 hàng ( dòng )\n",
        "\n",
        "import numpy as np\n",
        "\n",
        "# tạo mảng 1d gồm 10 phần tử\n",
        "a =np.arange(9)\n",
        "# mảng 2 chiều có 2 hàng\n",
        "b=np.resize(a, 10).reshape(2,5)\n",
        "print(b)"
      ],
      "execution_count": null,
      "outputs": []
    },
    {
      "cell_type": "code",
      "metadata": {
        "id": "2XFG-1pH1fFU",
        "colab": {
          "base_uri": "https://localhost:8080/"
        },
        "outputId": "d44247b1-aed9-4b1d-b638-443f3f8b90af"
      },
      "source": [
        "# câu 8:  xếp chồng 2 mảng theo chiều dọc\n",
        "\n",
        "import numpy as np\n",
        "\n",
        "# tạo data\n",
        "a = np.array(([0, 1, 2, 3, 4],[5, 6, 7, 8, 9]))\n",
        "print(\"a:\",a)\n",
        "b = np.array(([1, 1, 1, 1, 1],[1, 1, 1, 1, 1]))\n",
        "print(\"b:\",b)\n",
        "# Cách 1 : \n",
        "result1 = np.concatenate((a,b), axis =0)\n",
        "print(\"result1:\\n\", result1)\n",
        "# Cách 2 : \n",
        "result2  = np.vstack([a,b])\n",
        "print(\"result2:\\n\", result2)\n",
        "# Cách 3 : \n",
        "result3 = np.r_[a,b]\n",
        "print(\"result3:\\n\", result3)"
      ],
      "execution_count": null,
      "outputs": [
        {
          "output_type": "stream",
          "text": [
            "a: [[0 1 2 3 4]\n",
            " [5 6 7 8 9]]\n",
            "b: [[1 1 1 1 1]\n",
            " [1 1 1 1 1]]\n",
            "result1:\n",
            " [[0 1 2 3 4]\n",
            " [5 6 7 8 9]\n",
            " [1 1 1 1 1]\n",
            " [1 1 1 1 1]]\n",
            "result2:\n",
            " [[0 1 2 3 4]\n",
            " [5 6 7 8 9]\n",
            " [1 1 1 1 1]\n",
            " [1 1 1 1 1]]\n",
            "result3:\n",
            " [[0 1 2 3 4]\n",
            " [5 6 7 8 9]\n",
            " [1 1 1 1 1]\n",
            " [1 1 1 1 1]]\n"
          ],
          "name": "stdout"
        }
      ]
    },
    {
      "cell_type": "code",
      "metadata": {
        "id": "12wSU-EW1fFV"
      },
      "source": [],
      "execution_count": null,
      "outputs": []
    },
    {
      "cell_type": "code",
      "metadata": {
        "id": "640r0kMN1fFW"
      },
      "source": [
        "# câu 9 : xếp chồng 2 mảng theo chiều ngang\n",
        "\n",
        "import numpy as np\n",
        "\n",
        "# tạo data\n",
        "a = np.array(([0, 1, 2, 3, 4],[5, 6, 7, 8, 9]))\n",
        "print(\"a:\",a)\n",
        "b = np.array(([1, 1, 1, 1, 1],[1, 1, 1, 1, 1]))\n",
        "print(\"b:\",b)\n",
        "# Cách 1 : \n",
        "result1 = np.concatenate((a,b), axis =1)\n",
        "print(\"result1:\\n\", result1)\n",
        "# Cách 2 : \n",
        "result2  = np.hstack([a,b])\n",
        "print(\"result2:\\n\", result2)\n",
        "# Cách 3 : \n",
        "result3 = np.c_[a,b]\n",
        "print(\"result3:\\n\", result3)"
      ],
      "execution_count": null,
      "outputs": []
    },
    {
      "cell_type": "code",
      "metadata": {
        "scrolled": false,
        "id": "NAOKD-0l1fFX"
      },
      "source": [],
      "execution_count": null,
      "outputs": []
    },
    {
      "cell_type": "code",
      "metadata": {
        "id": "FifR56x_1fFX"
      },
      "source": [
        "# câu 10\n",
        "\n",
        "import numpy as np\n",
        "\n",
        "# chỉ dùng hàm numpy có sẵn với mảng a như bên dưới\n",
        "a = np.array([1,2,3])\n",
        "print(a)\n",
        "\n",
        "# tạo mảng mới lặp lại mỗi phần tử lên 3 lần\n",
        "a1 = np.repeat(a,3)\n",
        "print(a1)\n",
        "# tạo mảng mới lặp lại mảng tất cả phần tử lên 3 lần\n",
        "a2 = np.tile(a,3)\n",
        "print(a2)"
      ],
      "execution_count": null,
      "outputs": []
    },
    {
      "cell_type": "code",
      "metadata": {
        "id": "8GrUKX7M1fFY",
        "colab": {
          "base_uri": "https://localhost:8080/"
        },
        "outputId": "b69e40ef-253b-4866-c46e-5ae4919e608d"
      },
      "source": [
        "# câu 11: Lấy phần tử chung của 2 mảng a và b \n",
        "\n",
        "import numpy as np\n",
        "\n",
        "a = np.array([1,2,3,2,3,4,3,5,6])\n",
        "b = np.array([7,2,10,2,7,4,9,4,9,8])\n",
        "\n",
        "# Lấy phần tử chung của 2 mảng a và b \n",
        "c = np.intersect1d(a,b)\n",
        "c"
      ],
      "execution_count": null,
      "outputs": [
        {
          "output_type": "execute_result",
          "data": {
            "text/plain": [
              "array([2, 4])"
            ]
          },
          "metadata": {},
          "execution_count": 15
        }
      ]
    },
    {
      "cell_type": "code",
      "metadata": {
        "id": "rwgOtxss1fFY",
        "colab": {
          "base_uri": "https://localhost:8080/"
        },
        "outputId": "90958018-eb4a-4b3d-90d3-c9bd3c96c973"
      },
      "source": [
        "# câu 12 : Xoá phần tử từ 1 mảng mà tồn tại trong 1 mảng khác\n",
        "\n",
        "import numpy as np\n",
        "\n",
        "a = np.array([1,2,3,4,5])\n",
        "b = np.array([5,6,7,8,9])\n",
        "\n",
        "# Từ mảng a xoá tất cả các phần tử mà đã có trong mảng b\n",
        "c = np.setdiff1d(a,b)\n",
        "c"
      ],
      "execution_count": null,
      "outputs": [
        {
          "output_type": "execute_result",
          "data": {
            "text/plain": [
              "array([1, 2, 3, 4])"
            ]
          },
          "metadata": {},
          "execution_count": 19
        }
      ]
    },
    {
      "cell_type": "code",
      "metadata": {
        "id": "rk1-hhPx1fFZ",
        "colab": {
          "base_uri": "https://localhost:8080/"
        },
        "outputId": "3f14571a-b682-4c86-b550-589660774d37"
      },
      "source": [
        "# câu 13: \n",
        "\n",
        "import numpy as np\n",
        "\n",
        "a = np.array([1,2,3,2,3,4,3,4,5,6])\n",
        "b = np.array([7,2,10,2,7,4,9,4,9,8])\n",
        "\n",
        "# Lấy tất cả vị trí nơi giá trị các phần tử của 2 mảng a,b giống nhau\n",
        "c = np.where(a==b)\n",
        "c\n"
      ],
      "execution_count": null,
      "outputs": [
        {
          "output_type": "execute_result",
          "data": {
            "text/plain": [
              "(array([1, 3, 5, 7]),)"
            ]
          },
          "metadata": {},
          "execution_count": 20
        }
      ]
    },
    {
      "cell_type": "code",
      "metadata": {
        "id": "tl7tHGV31fFZ",
        "colab": {
          "base_uri": "https://localhost:8080/"
        },
        "outputId": "d92eb95a-4872-4218-f97d-ad4cae4a0a5d"
      },
      "source": [
        "# câu 14 : Lấy tất cả các giá trị trong 1 phạm vi cho trước từ 1 mảng\n",
        "\n",
        "import numpy as np\n",
        "\n",
        "a = np.array([2,6,1,9,10,3,27])\n",
        "\n",
        "# tìm tất cả vị trí của các phần tử có giá trị trong phạm vi [5,10]\n",
        "#cach 1:\n",
        "index1 = np.where((a>=5)&(a<=10))\n",
        "print(a[index1])\n",
        "# # cach 2:\n",
        "# index = np.where(np.logical_and(a>=5,a<=10))\n",
        "# print(a[index])\n",
        "# # cach 3:\n",
        "# a[(a>=5)&(a<=10)]\n",
        "# print(a[index])"
      ],
      "execution_count": null,
      "outputs": [
        {
          "output_type": "stream",
          "text": [
            "[ 6  9 10]\n",
            "[ 6  9 10]\n"
          ],
          "name": "stdout"
        }
      ]
    },
    {
      "cell_type": "code",
      "metadata": {
        "id": "cP1j6W4b1fFZ",
        "colab": {
          "base_uri": "https://localhost:8080/"
        },
        "outputId": "f3a9897d-ec3b-4081-a6b2-5711734ce26a"
      },
      "source": [
        "# câu 15 : Tạo hàm xử lý trên mảng numpy\n",
        "\n",
        "import numpy as np\n",
        "\n",
        "def maxx(x,y):\n",
        "    # Lấy số lớn nhất nhất trong 2 số\n",
        "    if x >= y :\n",
        "        return x\n",
        "    else:\n",
        "        return y\n",
        "\n",
        "a = np.array([5,7,9,8,6,4,5])\n",
        "b = np.array([6,3,4,8,9,7,1])\n",
        "\n",
        "# numpy.vectorize lấy hàm maxx: x,y và biến nó thành maxx: a[] -> b[].\n",
        "# cach 1 :\n",
        "# max = np.vectorize(maxx)\n",
        "# max(a,b)\n",
        "#cach 2 :\n",
        "# print(np.maximum(a,b))\n",
        "# cach 3 :\n",
        "print(np.where(a<b,b,a))"
      ],
      "execution_count": null,
      "outputs": [
        {
          "output_type": "stream",
          "text": [
            "[6 7 9 8 9 7 5]\n"
          ],
          "name": "stdout"
        }
      ]
    },
    {
      "cell_type": "code",
      "metadata": {
        "id": "zPROAegj1fFa",
        "outputId": "b180b331-b1d1-4ad3-adda-8c19114b45e9"
      },
      "source": [
        "import numpy as np\n",
        "\n",
        "# lấy giá trị lớn hơn giữa a và b\n",
        "a = np.array([5,7,9,8,6,4,5])\n",
        "b = np.array([6,3,4,8,9,7,1])\n",
        "\n",
        "\n",
        "# dùng hàm maximum để\n",
        "# print(np.maximum(a,b))\n",
        "\n",
        "# dùng hàm where \n",
        "print(np.where(a<b,b,a))"
      ],
      "execution_count": null,
      "outputs": [
        {
          "data": {
            "text/plain": [
              "array([6, 7, 9, 8, 9, 7, 5])"
            ]
          },
          "execution_count": 109,
          "metadata": {},
          "output_type": "execute_result"
        }
      ]
    },
    {
      "cell_type": "code",
      "metadata": {
        "id": "GvHTX5ev1fFa"
      },
      "source": [
        "# câu 16 : Hoán các cột trong mảng 2 chiều \n",
        "\n",
        "import numpy as np\n",
        "\n",
        "# cho mảng arr có shape 3x3\n",
        "arr = np.arange(9).reshape(3,3)\n",
        "print(arr)\n",
        "# Hoán cột có index 0 và index 1 trong mảng arr\n",
        "print(arr[:,[1,0,2]])"
      ],
      "execution_count": null,
      "outputs": []
    },
    {
      "cell_type": "code",
      "metadata": {
        "id": "Rxjk42S71fFa",
        "colab": {
          "base_uri": "https://localhost:8080/"
        },
        "outputId": "3c0d9166-b58c-44bd-e403-e8825ae5c3f8"
      },
      "source": [
        "# câu 17 :  Hoán 2 hàng trong mảng 2 chiều \n",
        "\n",
        "import numpy as np\n",
        "\n",
        "# cho mảng arr có shape 3x3\n",
        "arr = np.arange(9).reshape(3,3)\n",
        "print(arr)\n",
        "\n",
        "# Hoán dòng có index 0 và index 1 trong mảng arr\n",
        "print(arr[[1,0,2],:])"
      ],
      "execution_count": null,
      "outputs": [
        {
          "output_type": "stream",
          "text": [
            "[[0 1 2]\n",
            " [3 4 5]\n",
            " [6 7 8]]\n",
            "[[3 4 5]\n",
            " [0 1 2]\n",
            " [6 7 8]]\n"
          ],
          "name": "stdout"
        }
      ]
    },
    {
      "cell_type": "code",
      "metadata": {
        "id": "Sou9ZnkD1fFa",
        "colab": {
          "base_uri": "https://localhost:8080/"
        },
        "outputId": "86ff7d75-6684-46ec-b9a3-43539a5bb0db"
      },
      "source": [
        "# câu 18 : \n",
        "\n",
        "import numpy as np\n",
        "\n",
        "# cho mảng arr có shape 3x3\n",
        "arr = np.arange(9).reshape(3,3)\n",
        "print(arr)\n",
        "# Đoản ngược hàng (dòng) trong mảng 2 chiều\n",
        "print(arr[::-1,:])\n"
      ],
      "execution_count": null,
      "outputs": [
        {
          "output_type": "stream",
          "text": [
            "[[0 1 2]\n",
            " [3 4 5]\n",
            " [6 7 8]]\n",
            "[[6 7 8]\n",
            " [3 4 5]\n",
            " [0 1 2]]\n"
          ],
          "name": "stdout"
        }
      ]
    },
    {
      "cell_type": "code",
      "metadata": {
        "id": "IKydymV81fFb",
        "colab": {
          "base_uri": "https://localhost:8080/"
        },
        "outputId": "921320f6-15bf-45d2-d00b-c767f3e63089"
      },
      "source": [
        "# câu 19 \n",
        "\n",
        "import numpy as np\n",
        "\n",
        "# cho mảng arr có shape 3x3\n",
        "arr = np.arange(9).reshape(3,3)\n",
        "print(arr)\n",
        "# Đoản ngược cột trong mảng 2 chiều\n",
        "print(arr[:,::-1])\n"
      ],
      "execution_count": null,
      "outputs": [
        {
          "output_type": "stream",
          "text": [
            "[[0 1 2]\n",
            " [3 4 5]\n",
            " [6 7 8]]\n",
            "[[2 1 0]\n",
            " [5 4 3]\n",
            " [8 7 6]]\n"
          ],
          "name": "stdout"
        }
      ]
    },
    {
      "cell_type": "code",
      "metadata": {
        "id": "crFR3QMT1fFb",
        "colab": {
          "base_uri": "https://localhost:8080/"
        },
        "outputId": "79a0f500-8b17-43ec-8759-4e298fbf3d19"
      },
      "source": [
        "# Câu 20 :  Tạo mảng 2 chiều chứa số random kiểu float từ 5 đến 10\n",
        "\n",
        "import numpy as np\n",
        "\n",
        "\n",
        "# Tạo mảng 2 chiều 5x3 từ 5 đến 10\n",
        "arr =   np.random.uniform(5,10,size=(5,3))\n",
        "arr\n",
        "# Cách Dùng hàm random.uniform \n",
        "\n"
      ],
      "execution_count": null,
      "outputs": [
        {
          "output_type": "execute_result",
          "data": {
            "text/plain": [
              "array([[8.41823442, 5.65479953, 5.65891761],\n",
              "       [5.98194824, 6.22946116, 8.26254591],\n",
              "       [7.54845492, 8.64016225, 7.97005181],\n",
              "       [7.79981466, 9.02576892, 5.49124682],\n",
              "       [6.96202432, 6.03513194, 7.55749151]])"
            ]
          },
          "metadata": {},
          "execution_count": 64
        }
      ]
    },
    {
      "cell_type": "code",
      "metadata": {
        "id": "8K5jFiGo1fFb"
      },
      "source": [
        "# câu 21 \n",
        "\n",
        "import numpy as np\n",
        "\n",
        "# cho mảng a chứa các số ngẫu nhiên từ [1, 50)\n",
        "a = np.random.uniform(1,50,20)\n",
        "print(a)\n",
        "\n",
        "# Thay thế tất cả các giá trị lớn hơn một giá trị cho trước thành một phạm vi [10,30]\n",
        "# Thay thế tất cả các giá trị lớn hơn 30 thành 30 và dưới 10 thành 10\n",
        "# Cách 1 : dùng hàm np.clip  \n",
        "result1 = np.clip(a,10,30)\n",
        "print(result1)\n",
        "\n",
        "# Cách 2 : dùng hàm np.where\n",
        "result2 = np.where(a<10,10,np.where(a>30,30,a))\n",
        "print(result2)\n"
      ],
      "execution_count": null,
      "outputs": []
    },
    {
      "cell_type": "code",
      "metadata": {
        "id": "sV6TsI131fFb",
        "colab": {
          "base_uri": "https://localhost:8080/"
        },
        "outputId": "1aa54166-7d43-4966-9f07-44669565029a"
      },
      "source": [
        "# câu 22: Lấy vị trí của n giá trị đứng đầu từ một mảng numpy\n",
        "\n",
        "import numpy as np\n",
        "\n",
        "# cho mảng a chứa các số ngẫu nhiên từ [1, 50)\n",
        "a = np.random.uniform(1,50, 20)\n",
        "print(a)\n",
        "\n",
        "# Lấy vị trí của 5 giá trị lớn nhấttrong một mảng a\n",
        "\n",
        "# Cách 1 : dùng hàm np.argsort() \n",
        "print('vị trí:',np.argsort(a)[-5:])\n",
        "print('giá trị:',a[np.argsort(a)[-5:]])\n",
        "\n",
        "# Cách 2 : dùng hàm sort() \n",
        "print('vị trí:',np.argpartition(a,-5)[-5:])\n",
        "print('giá trị:',a[np.argpartition(a,-5)[-5:]])\n"
      ],
      "execution_count": null,
      "outputs": [
        {
          "output_type": "stream",
          "text": [
            "[ 4.53974581 27.12186135 33.96868037 26.91208459 31.99186439 48.03069164\n",
            " 47.17714253 36.91467116  1.91501098 22.80288204 17.54257486 11.6762493\n",
            " 23.83445951 23.12252517 16.10140513 18.48834104  2.40421636 12.04300776\n",
            " 20.05569409 43.39239807]\n",
            "vị trí: [ 2  7 19  6  5]\n",
            "giá trị: [33.96868037 36.91467116 43.39239807 47.17714253 48.03069164]\n",
            "vị trí: [ 2  7 19  5  6]\n",
            "giá trị: [33.96868037 36.91467116 43.39239807 48.03069164 47.17714253]\n"
          ],
          "name": "stdout"
        }
      ]
    },
    {
      "cell_type": "code",
      "metadata": {
        "id": "TJMmqWgc1fFc",
        "colab": {
          "base_uri": "https://localhost:8080/"
        },
        "outputId": "b4e64f0a-ac2c-4a7f-c8ec-d1e8cdbb8f01"
      },
      "source": [
        "# câu 23: Chuyển đổi một mảng chứa nhiều mảng thành một mảng 1d phẳng\n",
        "\n",
        "import numpy as np\n",
        "\n",
        "\n",
        "# cho array_of_arrays như sau\n",
        "arr1 = np.arange(3)\n",
        "arr2 = np.arange(3,7)\n",
        "arr3 = np.arange(7,10)\n",
        "\n",
        "array_of_arrays = np.array([arr1, arr2, arr3])\n",
        "print('array_of_arrays: ', array_of_arrays)\n",
        "\n",
        "# Chuyển đổi array_of_arrays thành mảng 1d tuyến tính phẳng \n",
        "# cách 1 :\n",
        "arr_2d = np.array([a for arr in array_of_arrays for a in arr])\n",
        "print(\"arr moi :\",arr_2d)\n",
        "# cách 2 :\n",
        "arr_2d = np.concatenate(array_of_arrays)\n",
        "print(\"arr moi :\",arr_2d)\n",
        "# cách 3 :\n",
        "arr_2d = np.hstack(array_of_arrays)\n",
        "print(\"arr moi :\",arr_2d)"
      ],
      "execution_count": null,
      "outputs": [
        {
          "output_type": "stream",
          "text": [
            "array_of_arrays:  [array([0, 1, 2]) array([3, 4, 5, 6]) array([7, 8, 9])]\n",
            "arr moi : [0 1 2 3 4 5 6 7 8 9]\n",
            "arr moi : [0 1 2 3 4 5 6 7 8 9]\n",
            "arr moi : [0 1 2 3 4 5 6 7 8 9]\n"
          ],
          "name": "stdout"
        },
        {
          "output_type": "stream",
          "text": [
            "/usr/local/lib/python3.7/dist-packages/ipykernel_launcher.py:11: VisibleDeprecationWarning: Creating an ndarray from ragged nested sequences (which is a list-or-tuple of lists-or-tuples-or ndarrays with different lengths or shapes) is deprecated. If you meant to do this, you must specify 'dtype=object' when creating the ndarray\n",
            "  # This is added back by InteractiveShellApp.init_path()\n"
          ],
          "name": "stderr"
        }
      ]
    },
    {
      "cell_type": "code",
      "metadata": {
        "id": "Fg_2dyz31fFc"
      },
      "source": [
        "# câu 24: Tìm giá trị lớn nhất trong mỗi hàng của mảng 2d \n",
        "\n",
        "import numpy as np\n",
        "\n",
        "# cho mảng a\n",
        "a = np.random.randint(1, 10, [5,3])\n",
        "print(a)\n",
        "\n",
        "\n",
        "# Cách 1 : dùng np.amax\n",
        "result = np.amax(a, axis=1)\n",
        "print(result)\n",
        "\n",
        "#Cách 2 : dung np.apply_along_axis và np.max\n",
        "result = np.apply_along_axis(np.max,axis=1,arr=a)\n",
        "print(result)"
      ],
      "execution_count": null,
      "outputs": []
    },
    {
      "cell_type": "code",
      "metadata": {
        "id": "1bdgfqX61fFd",
        "colab": {
          "base_uri": "https://localhost:8080/"
        },
        "outputId": "a610ae55-1ebe-435b-aff7-00e9da1ffa8e"
      },
      "source": [
        "# câu 25\n",
        "\n",
        "import numpy as np\n",
        "\n",
        "# cho mảng a\n",
        "a = np.random.randint(1, 10, [5,3])\n",
        "print(a)\n",
        "result1 = np.apply_along_axis(np.max,axis=1,arr=a)\n",
        "print(result1)\n",
        "result2 = np.apply_along_axis(np.min,axis=1,arr=a)\n",
        "print(result2)\n",
        "# tính tỉ số min/max cho mỗi hàng trong mảng a\n",
        "c = result2/result1\n",
        "print(c)\n"
      ],
      "execution_count": null,
      "outputs": [
        {
          "output_type": "stream",
          "text": [
            "[[8 3 3]\n",
            " [7 3 1]\n",
            " [4 8 7]\n",
            " [6 7 6]\n",
            " [7 6 7]]\n",
            "[8 7 8 7 7]\n",
            "[3 1 4 6 6]\n",
            "[0.375      0.14285714 0.5        0.85714286 0.85714286]\n"
          ],
          "name": "stdout"
        }
      ]
    },
    {
      "cell_type": "code",
      "metadata": {
        "id": "iS2aEN7S1fFd",
        "colab": {
          "base_uri": "https://localhost:8080/"
        },
        "outputId": "735e631e-c872-4ce9-d63c-017768bdb657"
      },
      "source": [
        "# câu 26: Tìm các vị trí có giá trị trùng lặp trong một mảng numpy\n",
        "\n",
        "import numpy as np\n",
        "\n",
        "# cho mảng a\n",
        "a = np.random.randint(0, 5, 10)\n",
        "print(a)\n",
        "\n",
        "# Tìm các phần tử trùng lặp (lần xuất hiện thứ 2 trở đi) trong mảng đã cho\n",
        "# và đánh dấu chúng là True. Lần đầu tiên xuất hiện là False.\n",
        "\n",
        "# hint: dùng np.full và np.unique\n",
        "\n"
      ],
      "execution_count": null,
      "outputs": [
        {
          "output_type": "stream",
          "text": [
            "[3 4 2 1 0 2 2 4 2 0]\n"
          ],
          "name": "stdout"
        }
      ]
    },
    {
      "cell_type": "code",
      "metadata": {
        "id": "FW7pGXLf1fFd",
        "colab": {
          "base_uri": "https://localhost:8080/"
        },
        "outputId": "7da98fa9-8628-43dd-f2cd-0b1bd671efd9"
      },
      "source": [
        "# câu 27: loại bỏ tất cả các giá trị còn thiếu (np.nan) trong một mảng\n",
        "\n",
        "import numpy as np\n",
        "\n",
        "# cho mảng a\n",
        "a = np.array([1,2,3,np.nan,5,6,7,np.nan])\n",
        "print(a)\n",
        "\n",
        "# bỏ tất cả các giá trị nan từ một mảng numpy 1D\n",
        "# cách 1 :\n",
        "# print(a[np.logical_not(np.isnan(a))])\n",
        "# cách 2 :\n",
        "print(a[~np.isnan(a)])"
      ],
      "execution_count": null,
      "outputs": [
        {
          "output_type": "stream",
          "text": [
            "[ 1.  2.  3. nan  5.  6.  7. nan]\n",
            "[1. 2. 3. 5. 6. 7.]\n"
          ],
          "name": "stdout"
        }
      ]
    },
    {
      "cell_type": "code",
      "metadata": {
        "id": "cNhIWhoo1fFd",
        "colab": {
          "base_uri": "https://localhost:8080/"
        },
        "outputId": "9ad5a5bf-7e00-4d05-8b7c-a29fb25a680d"
      },
      "source": [
        "# câu 28: \n",
        "\n",
        "import numpy as np\n",
        "\n",
        "a = np.array([1,2,3,4,5])\n",
        "b = np.array([4,5,6,7,8])\n",
        "\n",
        "# tính khoảng cách giữa hai mảng a và b, dùng np.linalg.norm\n",
        "dist = np.linalg.norm(a-b)\n",
        "dist"
      ],
      "execution_count": null,
      "outputs": [
        {
          "output_type": "execute_result",
          "data": {
            "text/plain": [
              "6.708203932499369"
            ]
          },
          "metadata": {},
          "execution_count": 81
        }
      ]
    },
    {
      "cell_type": "code",
      "metadata": {
        "id": "4I0w0ByF1fFe",
        "colab": {
          "base_uri": "https://localhost:8080/"
        },
        "outputId": "7429a5e2-6893-4fa3-9d93-81370228cb1b"
      },
      "source": [
        "# câu 29: Tìm tất cả các cực đại cục bộ (hay còn gọi các đỉnh) trong một mảng 1d\n",
        "\n",
        "import numpy as np\n",
        "\n",
        "\n",
        "\n",
        "# cho mảng a như sau\n",
        "a = np.array([1, 3, 7, 1, 2, 6, 0, 1])\n",
        "\n",
        "# Tìm tất cả các đỉnh trong một mảng numpy 1D. \n",
        "# Đỉnh là các điểm được bao quanh bởi các giá trị nhỏ hơn ở cả hai phía.\n",
        "\n",
        "# hint: dùng np.diff và np.sign\n",
        "doublediff = np.diff(np.sign(np.diff(a)))\n",
        "peak_locations = np.where(doublediff == -2)[0] + 1\n",
        "peak_locations\n"
      ],
      "execution_count": null,
      "outputs": [
        {
          "output_type": "execute_result",
          "data": {
            "text/plain": [
              "array([2, 5])"
            ]
          },
          "metadata": {},
          "execution_count": 97
        }
      ]
    }
  ]
}