{
  "nbformat": 4,
  "nbformat_minor": 0,
  "metadata": {
    "kernelspec": {
      "display_name": "Python 3",
      "language": "python",
      "name": "python3"
    },
    "language_info": {
      "codemirror_mode": {
        "name": "ipython",
        "version": 3
      },
      "file_extension": ".py",
      "mimetype": "text/x-python",
      "name": "python",
      "nbconvert_exporter": "python",
      "pygments_lexer": "ipython3",
      "version": "3.8.8"
    },
    "colab": {
      "provenance": [],
      "include_colab_link": true
    }
  },
  "cells": [
    {
      "cell_type": "markdown",
      "metadata": {
        "id": "view-in-github",
        "colab_type": "text"
      },
      "source": [
        "<a href=\"https://colab.research.google.com/github/Huyvubk/Python-programing/blob/main/HW_Numpy.ipynb\" target=\"_parent\"><img src=\"https://colab.research.google.com/assets/colab-badge.svg\" alt=\"Open In Colab\"/></a>"
      ]
    },
    {
      "cell_type": "code",
      "metadata": {
        "colab": {
          "base_uri": "https://localhost:8080/"
        },
        "id": "fScbGaKxiuMD",
        "outputId": "ec0f02b5-239b-4d14-90e8-cbdaba856658"
      },
      "source": [
        "# https://www.delftstack.com/howto/python/module-version-python/\n",
        "# câu 1 : import module numpy và in ra version \n",
        "\n",
        "import numpy as np\n",
        "\n",
        "print(np.__version__)\n",
        "\n",
        "# python 3.8+\n",
        "from importlib_metadata import version\n",
        "print(version('numpy'))\n",
        "\n",
        "# below 3.8\n",
        "import pkg_resources\n",
        "print(pkg_resources.get_distribution('numpy').version)\n"
      ],
      "execution_count": null,
      "outputs": [
        {
          "output_type": "stream",
          "text": [
            "1.19.5\n",
            "1.19.5\n",
            "1.19.5\n"
          ],
          "name": "stdout"
        }
      ]
    },
    {
      "cell_type": "code",
      "metadata": {
        "colab": {
          "base_uri": "https://localhost:8080/"
        },
        "id": "IbloaYCiiuMM",
        "outputId": "635ff1c4-30ce-491d-e6f8-52505009483b"
      },
      "source": [
        "# câu 2 : Tạo mảng 1 chiều từ 0 đến 9\n",
        "\n",
        "import numpy as np\n",
        "\n",
        "arr = np.arange(0,10, 2)\n",
        "\n",
        "print(type(arr))\n",
        "print(arr.shape)\n",
        "print(arr)"
      ],
      "execution_count": null,
      "outputs": [
        {
          "output_type": "stream",
          "text": [
            "<class 'numpy.ndarray'>\n",
            "(5,)\n",
            "[0 2 4 6 8]\n"
          ],
          "name": "stdout"
        }
      ]
    },
    {
      "cell_type": "code",
      "metadata": {
        "colab": {
          "base_uri": "https://localhost:8080/"
        },
        "id": "eoiE0DtjiuMO",
        "outputId": "51c3ef46-3570-4f4b-e9b0-4e49b3d42596"
      },
      "source": [
        "# câu 3: Tạo một mảng boolean 3x3 với tất cả giá trị là True\n",
        "\n",
        "import numpy as np\n",
        "\n",
        "# # Cách 1 :\n",
        "# arr1 = np.ones((3,3)) > 0\n",
        "# print(arr1)\n",
        "\n",
        "# # Cách 2 : \n",
        "# arr2 = np.ones((3,3), dtype=bool) \n",
        "# print(arr2)\n",
        "\n",
        "# # Cách 3:\n",
        "# arr3 = np.full((3,3), 9, dtype=int)\n",
        "# print(arr3)\n"
      ],
      "execution_count": null,
      "outputs": [
        {
          "output_type": "stream",
          "text": [
            "[[9 9 9]\n",
            " [9 9 9]\n",
            " [9 9 9]]\n"
          ],
          "name": "stdout"
        }
      ]
    },
    {
      "cell_type": "code",
      "metadata": {
        "colab": {
          "base_uri": "https://localhost:8080/"
        },
        "id": "30dfyjFeiuMQ",
        "outputId": "100a11be-6245-4f79-9464-183dbf1ba19b"
      },
      "source": [
        "# câu 4 : Lấy những phần tử mà thoả mãn một điều kiện cho trước của mảng một chiều\n",
        "\n",
        "import numpy as np\n",
        "\n",
        "# tạo mảng một chiều từ 0 đến 9\n",
        "arr = np.arange(0,10)\n",
        "print(arr)\n",
        "\n",
        "# # Tìm phần tử có giá trị lẻ \n",
        "# arr_odd = \n",
        "arr[arr%2 == 1]\n",
        "print(arr[arr%2 == 1])"
      ],
      "execution_count": null,
      "outputs": [
        {
          "output_type": "stream",
          "text": [
            "[0 1 2 3 4 5 6 7 8 9]\n",
            "[1 3 5 7 9]\n"
          ],
          "name": "stdout"
        }
      ]
    },
    {
      "cell_type": "code",
      "metadata": {
        "colab": {
          "base_uri": "https://localhost:8080/"
        },
        "id": "N3tXlt7ciuMQ",
        "outputId": "6ab8a42e-30b6-4463-e43a-dba30547f828"
      },
      "source": [
        "# câu 5 : Thay thế phần tử thoả mãn điều kiện cho trước bằng 1 một giá khác\n",
        "\n",
        "import numpy as np\n",
        "\n",
        "# tạo mảng một chiều từ 0 đến 9\n",
        "arr = np.arange(0,10)\n",
        "print(arr)\n",
        "# # Thay thế phần tử có giá trị lẻ bằng -1\n",
        "arr[arr%2 ==1] = -1\n",
        "print(arr)"
      ],
      "execution_count": null,
      "outputs": [
        {
          "output_type": "stream",
          "text": [
            "[0 1 2 3 4 5 6 7 8 9]\n",
            "[ 0 -1  2 -1  4 -1  6 -1  8 -1]\n"
          ],
          "name": "stdout"
        }
      ]
    },
    {
      "cell_type": "code",
      "metadata": {
        "colab": {
          "base_uri": "https://localhost:8080/"
        },
        "id": "OyrYwIYWiuMS",
        "outputId": "d5d578d2-6a08-4e49-fc7a-89cd2d92415f"
      },
      "source": [
        "# câu 6 : Thay thế phần tử thoả mãn điều kiện cho trước bằng 1 một giá khác \n",
        "# nhưng không thay đổi mảng ban đầu\n",
        "\n",
        "# Thay thế tất cả số lẻ bằng giá trị -1 nhưng mảng ban đầu không thay đổi\n",
        "\n",
        "import numpy as np\n",
        "\n",
        "# tạo mảng một chiều từ 0 đến 9\n",
        "# Cách 1 :\n",
        "# arr = np.arange(0,10) \n",
        "# print('before   ', arr)\n",
        "# arr_copy = arr\n",
        "# arr_copy[arr %2 ==1] = -1\n",
        "# print('after    ', arr)\n",
        "# print('arr_copy ', arr_copy)\n",
        "# print()\n",
        "\n",
        "# arr = np.arange(0,10) \n",
        "# print('before   ', arr)\n",
        "# arr_copy = arr.copy()\n",
        "# arr_copy[arr %2 ==1] = -1\n",
        "# print('after    ', arr)\n",
        "# print('arr_copy ', arr_copy)\n",
        "# print()\n",
        "\n",
        "# Cách 2 :\n",
        "arr = np.arange(0,10) \n",
        "print('before   ', arr)\n",
        "out = np.where(arr%2== 1,-1,arr)\n",
        "print('after    ', arr)\n",
        "print('out      ', out)\n",
        "\n"
      ],
      "execution_count": null,
      "outputs": [
        {
          "output_type": "stream",
          "text": [
            "before    [0 1 2 3 4 5 6 7 8 9]\n",
            "after     [0 1 2 3 4 5 6 7 8 9]\n",
            "out       [ 0 -1  2 -1  4 -1  6 -1  8 -1]\n"
          ],
          "name": "stdout"
        }
      ]
    },
    {
      "cell_type": "code",
      "metadata": {
        "id": "asYjGV2PSbQm"
      },
      "source": [
        "arr = np.array([[0,1,2],\n",
        "                [3,4,5],\n",
        "                [6,7,8]])  "
      ],
      "execution_count": null,
      "outputs": []
    },
    {
      "cell_type": "code",
      "metadata": {
        "colab": {
          "base_uri": "https://localhost:8080/"
        },
        "id": "wl1Hb5HKZtbz",
        "outputId": "72bf481b-ca39-4d95-9f5f-d83fefdbf07c"
      },
      "source": [
        "arr = np.array([[0,1,2],\n",
        "                [3,4,5],\n",
        "                [6,7,8]])    \n",
        "# vị trí nào có giá trị < 4 thay bằng -1\n",
        "out = np.where(arr < 4, -1, arr)\n",
        "print(out)"
      ],
      "execution_count": null,
      "outputs": [
        {
          "output_type": "stream",
          "text": [
            "[[-1 -1 -1]\n",
            " [-1  4  5]\n",
            " [ 6  7  8]]\n"
          ],
          "name": "stdout"
        }
      ]
    },
    {
      "cell_type": "code",
      "metadata": {
        "colab": {
          "base_uri": "https://localhost:8080/"
        },
        "id": "HIKpvTOTdW7k",
        "outputId": "b4d4032e-2c21-497b-b7e1-fae436035ca6"
      },
      "source": [
        "arr = np.array([[0,1,2],\n",
        "                [3,4,5],\n",
        "                [6,7,8]])    \n",
        "# Trả về vị trí nào có giá trị < 4 theo Dim của input\n",
        "out = np.where(arr < 4)\n",
        "print(out)"
      ],
      "execution_count": null,
      "outputs": [
        {
          "output_type": "stream",
          "text": [
            "(array([0, 0, 0, 1]), array([0, 1, 2, 0]))\n"
          ],
          "name": "stdout"
        }
      ]
    },
    {
      "cell_type": "code",
      "metadata": {
        "colab": {
          "base_uri": "https://localhost:8080/"
        },
        "id": "HLd1BTXviuMS",
        "outputId": "da6fa05f-e0ac-4010-c5f4-22968985d85f"
      },
      "source": [
        "# câu 7 : Định dạng/chuyển mảng\n",
        "\n",
        "# Chuyển mảng 1 chiều thành mảng 2 chiều có 2 hàng ( dòng )\n",
        "\n",
        "import numpy as np\n",
        "\n",
        "# tạo mảng 1d gồm 10 phần tử\n",
        "arr = np.arange(10)\n",
        "print(arr)\n",
        "\n",
        "# mảng 2 chiều có 2 hàng\n",
        "arr_2d = arr.reshape(5,-1) # -1 có ý nghìa là số cột của data_2d được tính tự động\n",
        "print(arr_2d)"
      ],
      "execution_count": null,
      "outputs": [
        {
          "output_type": "stream",
          "text": [
            "[0 1 2 3 4 5 6 7 8 9]\n",
            "[[0 1]\n",
            " [2 3]\n",
            " [4 5]\n",
            " [6 7]\n",
            " [8 9]]\n"
          ],
          "name": "stdout"
        }
      ]
    },
    {
      "cell_type": "code",
      "metadata": {
        "colab": {
          "base_uri": "https://localhost:8080/"
        },
        "id": "45veQjToiuMU",
        "outputId": "9446353a-c810-4dd9-f265-8c75572cd51c"
      },
      "source": [
        "# câu 8:  xếp chồng 2 mảng theo chiều dọc\n",
        "\n",
        "import numpy as np\n",
        "\n",
        "# tạo data\n",
        "a = np.arange(10).reshape(2,-1)\n",
        "print('arr1: \\n', a)\n",
        "b = np.repeat(1,10).reshape(2,-1)\n",
        "print('arr2: \\n',b)\n",
        "\n",
        "# # Cách 1 : \n",
        "# c= np.concatenate([a,b],axis =0)\n",
        "# print(\"Cách 1: \\n\", c)\n",
        "\n",
        "# Cách 2 : \n",
        "# d = np.vstack([a,b])\n",
        "# print(\"Cách 2: \\n\",d)\n",
        "\n",
        "# # Cách 3 : \n",
        "# e = np.r_[a,b]\n",
        "# print(\"Cách 3 \\n\",e)"
      ],
      "execution_count": null,
      "outputs": [
        {
          "output_type": "stream",
          "text": [
            "arr1: \n",
            " [[0 1 2 3 4]\n",
            " [5 6 7 8 9]]\n",
            "arr2: \n",
            " [[1 1 1 1 1]\n",
            " [1 1 1 1 1]]\n",
            "Cách 3 \n",
            " [[0 1 2 3 4]\n",
            " [5 6 7 8 9]\n",
            " [1 1 1 1 1]\n",
            " [1 1 1 1 1]]\n"
          ],
          "name": "stdout"
        }
      ]
    },
    {
      "cell_type": "code",
      "metadata": {
        "colab": {
          "base_uri": "https://localhost:8080/"
        },
        "id": "ddgugKcJiuMW",
        "outputId": "469d9e98-4d1d-4b54-870f-dccd81e239b1"
      },
      "source": [
        " np.r_[0.0, np.array([1,2,3,4]), 0.0]"
      ],
      "execution_count": null,
      "outputs": [
        {
          "output_type": "execute_result",
          "data": {
            "text/plain": [
              "array([0., 1., 2., 3., 4., 0.])"
            ]
          },
          "metadata": {},
          "execution_count": 39
        }
      ]
    },
    {
      "cell_type": "code",
      "metadata": {
        "colab": {
          "base_uri": "https://localhost:8080/",
          "height": 202
        },
        "id": "dYYo7oXauKwO",
        "outputId": "307f4956-7856-4688-92bc-ab5227f7ee71"
      },
      "source": [
        "np.concatenate([0.0, np.array([1,2,3,4]), 0.0])"
      ],
      "execution_count": null,
      "outputs": [
        {
          "output_type": "error",
          "ename": "ValueError",
          "evalue": "ignored",
          "traceback": [
            "\u001b[0;31m---------------------------------------------------------------------------\u001b[0m",
            "\u001b[0;31mValueError\u001b[0m                                Traceback (most recent call last)",
            "\u001b[0;32m<ipython-input-40-93cb22dfd5b8>\u001b[0m in \u001b[0;36m<module>\u001b[0;34m()\u001b[0m\n\u001b[0;32m----> 1\u001b[0;31m \u001b[0mnp\u001b[0m\u001b[0;34m.\u001b[0m\u001b[0mconcatenate\u001b[0m\u001b[0;34m(\u001b[0m\u001b[0;34m[\u001b[0m\u001b[0;36m0.0\u001b[0m\u001b[0;34m,\u001b[0m \u001b[0mnp\u001b[0m\u001b[0;34m.\u001b[0m\u001b[0marray\u001b[0m\u001b[0;34m(\u001b[0m\u001b[0;34m[\u001b[0m\u001b[0;36m1\u001b[0m\u001b[0;34m,\u001b[0m\u001b[0;36m2\u001b[0m\u001b[0;34m,\u001b[0m\u001b[0;36m3\u001b[0m\u001b[0;34m,\u001b[0m\u001b[0;36m4\u001b[0m\u001b[0;34m]\u001b[0m\u001b[0;34m)\u001b[0m\u001b[0;34m,\u001b[0m \u001b[0;36m0.0\u001b[0m\u001b[0;34m]\u001b[0m\u001b[0;34m)\u001b[0m\u001b[0;34m\u001b[0m\u001b[0;34m\u001b[0m\u001b[0m\n\u001b[0m",
            "\u001b[0;32m<__array_function__ internals>\u001b[0m in \u001b[0;36mconcatenate\u001b[0;34m(*args, **kwargs)\u001b[0m\n",
            "\u001b[0;31mValueError\u001b[0m: zero-dimensional arrays cannot be concatenated"
          ]
        }
      ]
    },
    {
      "cell_type": "code",
      "metadata": {
        "colab": {
          "base_uri": "https://localhost:8080/"
        },
        "id": "h6OurX5jy5FE",
        "outputId": "2c57d7f5-53f9-4510-af23-ff09716657fe"
      },
      "source": [
        "np.concatenate([[0.0], np.array([1,2,3,4]), [0.0]])"
      ],
      "execution_count": null,
      "outputs": [
        {
          "output_type": "execute_result",
          "data": {
            "text/plain": [
              "array([0., 1., 2., 3., 4., 0.])"
            ]
          },
          "metadata": {},
          "execution_count": 74
        }
      ]
    },
    {
      "cell_type": "code",
      "metadata": {
        "colab": {
          "base_uri": "https://localhost:8080/"
        },
        "id": "eJLARiUvzPm_",
        "outputId": "5ff75604-ada9-4159-a8b0-0fc48f877148"
      },
      "source": [
        "np.r_[0.0, 1:5, 0.0]"
      ],
      "execution_count": null,
      "outputs": [
        {
          "output_type": "execute_result",
          "data": {
            "text/plain": [
              "array([0., 1., 2., 3., 4., 0.])"
            ]
          },
          "metadata": {},
          "execution_count": 76
        }
      ]
    },
    {
      "cell_type": "code",
      "metadata": {
        "colab": {
          "base_uri": "https://localhost:8080/"
        },
        "id": "64KJWK9GiuMZ",
        "outputId": "c1825db9-a4ff-4770-f61c-953fd33c3c98"
      },
      "source": [
        "# câu 9 : xếp chồng 2 mảng theo chiều ngang\n",
        "\n",
        "import numpy as np\n",
        "\n",
        "# tạo data\n",
        "a = np.arange(10).reshape(2,-1)\n",
        "print('arr1: \\n', a)\n",
        "\n",
        "b = np.repeat(1,10).reshape(2,-1)\n",
        "print('arr2: \\n', b)\n",
        "\n",
        "# Cách 1 : \n",
        "c= np.concatenate([a,b],axis =1)\n",
        "print('Cách 1: \\n', c)\n",
        "\n",
        "# Cách 2 : \n",
        "d = np.hstack([a,b])\n",
        "d\n",
        "print('Cách 2: \\n', d)\n",
        "\n",
        "# Cách 3 : \n",
        "e = np.c_[a,b]\n",
        "print('Cách 3: \\n', e)"
      ],
      "execution_count": null,
      "outputs": [
        {
          "output_type": "stream",
          "text": [
            "arr1: \n",
            " [[0 1 2 3 4]\n",
            " [5 6 7 8 9]]\n",
            "arr2: \n",
            " [[1 1 1 1 1]\n",
            " [1 1 1 1 1]]\n",
            "Cách 1: \n",
            " [[0 1 2 3 4 1 1 1 1 1]\n",
            " [5 6 7 8 9 1 1 1 1 1]]\n",
            "Cách 2: \n",
            " [[0 1 2 3 4 1 1 1 1 1]\n",
            " [5 6 7 8 9 1 1 1 1 1]]\n",
            "Cách 3: \n",
            " [[0 1 2 3 4 1 1 1 1 1]\n",
            " [5 6 7 8 9 1 1 1 1 1]]\n"
          ],
          "name": "stdout"
        }
      ]
    },
    {
      "cell_type": "code",
      "metadata": {
        "scrolled": false,
        "colab": {
          "base_uri": "https://localhost:8080/"
        },
        "id": "FebLL-6GiuMb",
        "outputId": "3277eeca-23ef-437d-be84-ff681d189277"
      },
      "source": [
        "np.c_[np.array([[1,2,3]]), 0, 0, np.array([[4,5,6]])]"
      ],
      "execution_count": null,
      "outputs": [
        {
          "output_type": "execute_result",
          "data": {
            "text/plain": [
              "array([[1, 2, 3, 0, 0, 4, 5, 6]])"
            ]
          },
          "metadata": {},
          "execution_count": 81
        }
      ]
    },
    {
      "cell_type": "code",
      "metadata": {
        "id": "bcT3-nzs2ZF1"
      },
      "source": [
        " np.r_[0.0, np.array([1,2,3,4]), 0.0]"
      ],
      "execution_count": null,
      "outputs": []
    },
    {
      "cell_type": "code",
      "metadata": {
        "colab": {
          "base_uri": "https://localhost:8080/"
        },
        "id": "IcOK1fz1iuMb",
        "outputId": "92ed4059-9e25-4bf3-b63b-b5ca3a59fe4e"
      },
      "source": [
        "# câu 10\n",
        "\n",
        "import numpy as np\n",
        "\n",
        "# chỉ dùng hàm numpy có sẵn với mảng a như bên dưới\n",
        "a = np.array([1,2,3])\n",
        "print(a)\n",
        "\n",
        "# tạo mảng mới lặp lại mỗi phần tử lên 3 lần\n",
        "print(np.repeat(a,3))\n",
        "# # tạo mảng mới lặp lại mảng tất cả phần tử lên 3 lần\n",
        "print(np.tile(a,3))"
      ],
      "execution_count": null,
      "outputs": [
        {
          "output_type": "stream",
          "text": [
            "[1 2 3]\n",
            "[1 1 1 2 2 2 3 3 3]\n",
            "[1 2 3 1 2 3 1 2 3]\n"
          ],
          "name": "stdout"
        }
      ]
    },
    {
      "cell_type": "code",
      "metadata": {
        "colab": {
          "base_uri": "https://localhost:8080/"
        },
        "id": "_0k3N4ok7i2r",
        "outputId": "a54a27df-f8f0-46a3-bde3-3357993e7c97"
      },
      "source": [
        "x = np.array([[1,2],[3,4]])\n",
        "print(x)\n",
        "np.repeat(x, 2, axis=0)"
      ],
      "execution_count": null,
      "outputs": [
        {
          "output_type": "stream",
          "text": [
            "[[1 2]\n",
            " [3 4]]\n"
          ],
          "name": "stdout"
        },
        {
          "output_type": "execute_result",
          "data": {
            "text/plain": [
              "array([[1, 2],\n",
              "       [1, 2],\n",
              "       [3, 4],\n",
              "       [3, 4]])"
            ]
          },
          "metadata": {},
          "execution_count": 89
        }
      ]
    },
    {
      "cell_type": "code",
      "metadata": {
        "colab": {
          "base_uri": "https://localhost:8080/"
        },
        "id": "sYK_4baC7p8f",
        "outputId": "5265108c-d6c8-4495-ce54-6d320b8e66e4"
      },
      "source": [
        "x = np.array([[1,2],[3,4]])\n",
        "print(x)\n",
        "np.repeat(x, 2, axis=1)"
      ],
      "execution_count": null,
      "outputs": [
        {
          "output_type": "stream",
          "text": [
            "[[1 2]\n",
            " [3 4]]\n"
          ],
          "name": "stdout"
        },
        {
          "output_type": "execute_result",
          "data": {
            "text/plain": [
              "array([[1, 1, 2, 2],\n",
              "       [3, 3, 4, 4]])"
            ]
          },
          "metadata": {},
          "execution_count": 90
        }
      ]
    },
    {
      "cell_type": "code",
      "metadata": {
        "colab": {
          "base_uri": "https://localhost:8080/"
        },
        "id": "Sl8x7KCG4pqy",
        "outputId": "4bd98fb1-a5fb-4f53-984c-1db510c214ff"
      },
      "source": [
        "x = np.array([[1,2],[3,4]])\n",
        "print(x)\n",
        "np.repeat(x, [2, 3], axis=1)"
      ],
      "execution_count": null,
      "outputs": [
        {
          "output_type": "stream",
          "text": [
            "[[1 2]\n",
            " [3 4]]\n"
          ],
          "name": "stdout"
        },
        {
          "output_type": "execute_result",
          "data": {
            "text/plain": [
              "array([[1, 1, 2, 2, 2],\n",
              "       [3, 3, 4, 4, 4]])"
            ]
          },
          "metadata": {},
          "execution_count": 87
        }
      ]
    },
    {
      "cell_type": "code",
      "metadata": {
        "colab": {
          "base_uri": "https://localhost:8080/"
        },
        "id": "gj3kRj8ODDUd",
        "outputId": "aa319b15-db0e-4cc9-c854-7afd747ceeb2"
      },
      "source": [
        "x = np.array([[1,2,3]])\n",
        "print(x)\n",
        "np.tile(x, (1,3))"
      ],
      "execution_count": null,
      "outputs": [
        {
          "output_type": "stream",
          "text": [
            "[[1 2 3]]\n"
          ],
          "name": "stdout"
        },
        {
          "output_type": "execute_result",
          "data": {
            "text/plain": [
              "array([[1, 2, 3, 1, 2, 3, 1, 2, 3]])"
            ]
          },
          "metadata": {},
          "execution_count": 92
        }
      ]
    },
    {
      "cell_type": "code",
      "metadata": {
        "colab": {
          "base_uri": "https://localhost:8080/"
        },
        "id": "vhWbbpEXDDec",
        "outputId": "1c713079-5702-4ba8-f315-bcac5197bf44"
      },
      "source": [
        "x = np.array([[1,2,3]])\n",
        "print(x)\n",
        "np.tile(x, (3,1))"
      ],
      "execution_count": null,
      "outputs": [
        {
          "output_type": "stream",
          "text": [
            "[[1 2 3]]\n"
          ],
          "name": "stdout"
        },
        {
          "output_type": "execute_result",
          "data": {
            "text/plain": [
              "array([[1, 2, 3],\n",
              "       [1, 2, 3],\n",
              "       [1, 2, 3]])"
            ]
          },
          "metadata": {},
          "execution_count": 93
        }
      ]
    },
    {
      "cell_type": "code",
      "metadata": {
        "id": "flDMMdZpDDnD"
      },
      "source": [],
      "execution_count": null,
      "outputs": []
    },
    {
      "cell_type": "code",
      "metadata": {
        "colab": {
          "base_uri": "https://localhost:8080/"
        },
        "id": "GgVDbrKdiuMc",
        "outputId": "81e1b0ce-98a8-49ad-c91a-3793b1a2be8f"
      },
      "source": [
        "# câu 11: Lấy phần tử chung của 2 mảng a và b \n",
        "\n",
        "import numpy as np\n",
        "\n",
        "a = np.array([1,2,3,2,3,4,3,5,6])\n",
        "b = np.array([7,2,10,2,7,4,9,4,9,8])\n",
        "\n",
        "# Lấy phần tử chung của 2 mảng a và b \n",
        "np.intersect1d(a,b)"
      ],
      "execution_count": null,
      "outputs": [
        {
          "output_type": "execute_result",
          "data": {
            "text/plain": [
              "array([2, 4])"
            ]
          },
          "metadata": {},
          "execution_count": 45
        }
      ]
    },
    {
      "cell_type": "code",
      "metadata": {
        "colab": {
          "base_uri": "https://localhost:8080/"
        },
        "id": "z1AED-sQHXs7",
        "outputId": "afdbb579-e7d3-475e-f3e5-261e42374bf6"
      },
      "source": [
        "arr1 = np.array([0,1,2,2,3])\n",
        "arr2 = np.array([5,2,7,2,0])\n",
        "# Lấy phần tử có trong arr1 mà không có trong arr2 \n",
        "np.setdiff1d(arr1,arr2)"
      ],
      "execution_count": null,
      "outputs": [
        {
          "output_type": "execute_result",
          "data": {
            "text/plain": [
              "array([1, 3])"
            ]
          },
          "metadata": {},
          "execution_count": 46
        }
      ]
    },
    {
      "cell_type": "code",
      "metadata": {
        "id": "mYYdRamGHX1K"
      },
      "source": [],
      "execution_count": null,
      "outputs": []
    },
    {
      "cell_type": "code",
      "metadata": {
        "colab": {
          "base_uri": "https://localhost:8080/"
        },
        "id": "m3OtYe7CiuMe",
        "outputId": "5eaf9919-73dd-4abf-c0f9-135dddc87ac0"
      },
      "source": [
        "# câu 12 : Xoá phần tử từ 1 mảng mà tồn tại trong 1 mảng khác\n",
        "\n",
        "import numpy as np\n",
        "\n",
        "a = np.array([1,2,3,4,5])\n",
        "b = np.array([5,6,7,8,9])\n",
        "\n",
        "# Từ mảng a xoá tất cả các phần tử mà đã có trong mảng b\n",
        "np.setdiff1d(a,b)"
      ],
      "execution_count": null,
      "outputs": [
        {
          "output_type": "execute_result",
          "data": {
            "text/plain": [
              "array([1, 2, 3, 4])"
            ]
          },
          "metadata": {},
          "execution_count": 47
        }
      ]
    },
    {
      "cell_type": "code",
      "metadata": {
        "colab": {
          "base_uri": "https://localhost:8080/"
        },
        "id": "jwWGwWU8iuMf",
        "outputId": "77705a5c-1ed0-40b3-b27b-c0bbc8678e3f"
      },
      "source": [
        "# câu 13: \n",
        "\n",
        "import numpy as np\n",
        "\n",
        "a = np.array([1,2,3,2,3,4,3,4,5,6])\n",
        "b = np.array([7,2,10,2,7,4,9,4,9,8])\n",
        "\n",
        "# Lấy tất cả vị trí nơi giá trị các phần tử của 2 mảng a,b giống nhau\n",
        "np.where(a ==b)"
      ],
      "execution_count": null,
      "outputs": [
        {
          "output_type": "execute_result",
          "data": {
            "text/plain": [
              "(array([1, 3, 5, 7]),)"
            ]
          },
          "metadata": {},
          "execution_count": 101
        }
      ]
    },
    {
      "cell_type": "code",
      "metadata": {
        "colab": {
          "base_uri": "https://localhost:8080/"
        },
        "id": "0SqoH8dlK4P0",
        "outputId": "0bd24b95-8b5f-4b84-d17b-93f85c72ad25"
      },
      "source": [
        "arr1 = np.array([0,1,2,2,3])\n",
        "arr2 = np.array([5,1,7,2,0])\n",
        "print(np.where(arr1==arr2))"
      ],
      "execution_count": null,
      "outputs": [
        {
          "output_type": "stream",
          "text": [
            "(array([1, 3]),)\n"
          ],
          "name": "stdout"
        }
      ]
    },
    {
      "cell_type": "code",
      "metadata": {
        "colab": {
          "base_uri": "https://localhost:8080/"
        },
        "id": "1NpX3gRjiuMf",
        "outputId": "e0ba82c3-c014-4bea-f0b3-dc19e043fdc3"
      },
      "source": [
        "# câu 14 : Lấy tất cả các giá trị trong 1 phạm vi cho trước từ 1 mảng\n",
        "\n",
        "import numpy as np\n",
        "\n",
        "a = np.array([2,6,1,9,10,3,27])\n",
        "\n",
        "# tìm tất cả vị trí của các phần tử có giá trị trong phạm vi [5,10]\n",
        "\n",
        "# # Cách 1:\n",
        "# index = np.where((a>=5)&(a<=10))\n",
        "# print(\"Cách 1: \\n\", a[index])\n",
        "\n",
        "# #Cách 2 :\n",
        "# index = np.where(np.logical_and(a>=5,a<=10))\n",
        "# print(\"Cách 2: \\n\", a[index])\n",
        "\n",
        "#Cách 3: không lấy vị trí mà lấy kết quả \n",
        "# a[(a>=5)&(a<=10)]\n",
        "# print(\"Cách 3: \\n\", a[index])"
      ],
      "execution_count": null,
      "outputs": [
        {
          "output_type": "stream",
          "text": [
            "Cách 3: \n",
            " [ 6  9 10]\n"
          ],
          "name": "stdout"
        }
      ]
    },
    {
      "cell_type": "code",
      "metadata": {
        "colab": {
          "base_uri": "https://localhost:8080/"
        },
        "id": "5ZR5jaylYu-x",
        "outputId": "5e55c59b-003f-4f3c-80e4-1ef09b2dfdf9"
      },
      "source": [
        "np.where((a>=5))[0]"
      ],
      "execution_count": null,
      "outputs": [
        {
          "output_type": "execute_result",
          "data": {
            "text/plain": [
              "array([1, 3, 4, 6])"
            ]
          },
          "metadata": {},
          "execution_count": 58
        }
      ]
    },
    {
      "cell_type": "code",
      "metadata": {
        "colab": {
          "base_uri": "https://localhost:8080/"
        },
        "id": "aEjdnQaKY0YW",
        "outputId": "95f5685d-4a57-4192-edfa-f5b08dce3eaf"
      },
      "source": [
        "np.where((a<=10)) "
      ],
      "execution_count": null,
      "outputs": [
        {
          "output_type": "execute_result",
          "data": {
            "text/plain": [
              "(array([0, 1, 2, 3, 4, 5]),)"
            ]
          },
          "metadata": {},
          "execution_count": 55
        }
      ]
    },
    {
      "cell_type": "code",
      "metadata": {
        "colab": {
          "base_uri": "https://localhost:8080/"
        },
        "id": "IuiDmX5GXt_i",
        "outputId": "ed437521-4c87-482d-c2be-c13317fb2912"
      },
      "source": [
        "# np.intersect1d(np.where((a>=5))[0], np.where((a<=10)) [0])"
      ],
      "execution_count": null,
      "outputs": [
        {
          "output_type": "execute_result",
          "data": {
            "text/plain": [
              "array([1, 3, 4])"
            ]
          },
          "metadata": {},
          "execution_count": 59
        }
      ]
    },
    {
      "cell_type": "code",
      "metadata": {
        "colab": {
          "base_uri": "https://localhost:8080/"
        },
        "id": "OSaLn4YHiuMg",
        "outputId": "5d8aff37-24b9-473b-df80-f1dedddf2a14"
      },
      "source": [
        "# câu 15 : Tạo hàm xử lý trên mảng numpy\n",
        "\n",
        "import numpy as np\n",
        "\n",
        "def maxx(x,y):\n",
        "    # Lấy số lớn nhất nhất trong 2 số\n",
        "    if x >= y :\n",
        "        return x\n",
        "    else:\n",
        "        return y\n",
        "\n",
        "a = np.array([5,7,9,8,6,4,5])\n",
        "b = np.array([6,3,4,8,9,7,1])\n",
        "\n",
        "# numpy.vectorize lấy hàm maxx: x,y và biến nó thành maxx: a[] -> b[].\n",
        "pair_max = np.vectorize(maxx,otypes=[float])\n",
        "pair_max(a,b)"
      ],
      "execution_count": null,
      "outputs": [
        {
          "output_type": "execute_result",
          "data": {
            "text/plain": [
              "array([6., 7., 9., 8., 9., 7., 5.])"
            ]
          },
          "metadata": {},
          "execution_count": 60
        }
      ]
    },
    {
      "cell_type": "code",
      "metadata": {
        "colab": {
          "base_uri": "https://localhost:8080/"
        },
        "id": "CCUBJ776iuMg",
        "outputId": "0e2e4313-b40b-435d-bf3a-f5ce400899a0"
      },
      "source": [
        "import numpy as np\n",
        "\n",
        "# lấy giá trị lớn hơn giữa a và b\n",
        "a = np.array([5,7,9,8,6,4,5])\n",
        "b = np.array([6,3,4,8,9,7,1])\n",
        "\n",
        "\n",
        "# dùng hàm maximum để\n",
        "print(\"Dùng maxnimum: \",np.maximum(a,b))\n",
        "\n",
        "# # dùng hàm where \n",
        "print(\"Dùng where:    \",np.where(a<b, b, a))"
      ],
      "execution_count": null,
      "outputs": [
        {
          "output_type": "stream",
          "text": [
            "Dùng maxnimum:  [6 7 9 8 9 7 5]\n",
            "Dùng where:     [6 7 9 8 9 7 5]\n"
          ],
          "name": "stdout"
        }
      ]
    },
    {
      "cell_type": "code",
      "metadata": {
        "colab": {
          "base_uri": "https://localhost:8080/"
        },
        "id": "grOeV-_qcgiI",
        "outputId": "5ee3a3f6-0dff-4a2b-9db9-5554954d2939"
      },
      "source": [
        "arr1 = np.array([0,1,2,2,3])\n",
        "arr2 = np.array([5,1,7,2,0])\n",
        "# max giữa 2 array \n",
        "np.maximum(arr1,arr2)"
      ],
      "execution_count": null,
      "outputs": [
        {
          "output_type": "execute_result",
          "data": {
            "text/plain": [
              "array([5, 1, 7, 2, 3])"
            ]
          },
          "metadata": {},
          "execution_count": 121
        }
      ]
    },
    {
      "cell_type": "code",
      "metadata": {
        "colab": {
          "base_uri": "https://localhost:8080/"
        },
        "id": "n7BnS5bddIcA",
        "outputId": "8444cceb-459b-4e53-cd78-1c8f192a5e01"
      },
      "source": [
        "arr1 = np.array([0,1,2,2,3])\n",
        "arr2 = np.array([5,1,7,2,0])\n",
        "# max giữa 2 array \n",
        "np.where(arr1<arr2, arr2, arr1)"
      ],
      "execution_count": null,
      "outputs": [
        {
          "output_type": "execute_result",
          "data": {
            "text/plain": [
              "array([5, 1, 7, 2, 3])"
            ]
          },
          "metadata": {},
          "execution_count": 122
        }
      ]
    },
    {
      "cell_type": "code",
      "metadata": {
        "colab": {
          "base_uri": "https://localhost:8080/"
        },
        "id": "_yBSIIhGiuMh",
        "outputId": "d1f3ee2d-7abc-4c1a-c61c-35bcfcf803b3"
      },
      "source": [
        "# câu 16 : Hoán các cột trong mảng 2 chiều \n",
        "\n",
        "import numpy as np\n",
        "\n",
        "# cho mảng arr có shape 3x3\n",
        "arr = np.arange(9).reshape(3,3)\n",
        "print(arr)\n",
        "# Hoán cột có index 0 và index 1 trong mảng arr\n",
        "print(arr[:,[2,1,0]])"
      ],
      "execution_count": null,
      "outputs": [
        {
          "output_type": "stream",
          "text": [
            "[[0 1 2]\n",
            " [3 4 5]\n",
            " [6 7 8]]\n",
            "[[2 1 0]\n",
            " [5 4 3]\n",
            " [8 7 6]]\n"
          ],
          "name": "stdout"
        }
      ]
    },
    {
      "cell_type": "code",
      "metadata": {
        "colab": {
          "base_uri": "https://localhost:8080/"
        },
        "id": "KCHrWSDUiuMi",
        "outputId": "c09c585f-df16-4686-d676-da03ec843177"
      },
      "source": [
        "# câu 17 :  Hoán 2 hàng trong mảng 2 chiều \n",
        "\n",
        "import numpy as np\n",
        "\n",
        "# cho mảng arr có shape 3x3\n",
        "arr = np.arange(9).reshape(3,3)\n",
        "print(arr)\n",
        "\n",
        "# Hoán dòng có index 0 và index 1 trong mảng arr\n",
        "print(arr[[1,0,2], :])"
      ],
      "execution_count": null,
      "outputs": [
        {
          "output_type": "stream",
          "text": [
            "[[0 1 2]\n",
            " [3 4 5]\n",
            " [6 7 8]]\n",
            "[[3 4 5]\n",
            " [0 1 2]\n",
            " [6 7 8]]\n"
          ],
          "name": "stdout"
        }
      ]
    },
    {
      "cell_type": "code",
      "metadata": {
        "colab": {
          "base_uri": "https://localhost:8080/",
          "height": 35
        },
        "id": "1xB3CpN7bTqa",
        "outputId": "72eadf22-a245-477c-85ce-6587cf7e25fa"
      },
      "source": [
        "a = 'abc'\n",
        "a[::-1] start:stop:step\n",
        "# ::-1 <=> end:beg:-1\n",
        "cba"
      ],
      "execution_count": null,
      "outputs": [
        {
          "output_type": "execute_result",
          "data": {
            "application/vnd.google.colaboratory.intrinsic+json": {
              "type": "string"
            },
            "text/plain": [
              "'cba'"
            ]
          },
          "metadata": {},
          "execution_count": 66
        }
      ]
    },
    {
      "cell_type": "code",
      "metadata": {
        "colab": {
          "base_uri": "https://localhost:8080/"
        },
        "id": "NOayqklkiuMi",
        "outputId": "971b05ba-4ad4-4435-8489-27eea5b3574d"
      },
      "source": [
        "# câu 18 : \n",
        "\n",
        "import numpy as np\n",
        "\n",
        "# cho mảng arr có shape 3x3\n",
        "arr = np.arange(9).reshape(3,3)\n",
        "print(arr)\n",
        "# Đảo ngược hàng (dòng) trong mảng 2 chiều\n",
        "print(arr[::-1, :])\n"
      ],
      "execution_count": null,
      "outputs": [
        {
          "output_type": "stream",
          "text": [
            "[[0 1 2]\n",
            " [3 4 5]\n",
            " [6 7 8]]\n",
            "[[6 7 8]\n",
            " [3 4 5]\n",
            " [0 1 2]]\n"
          ],
          "name": "stdout"
        }
      ]
    },
    {
      "cell_type": "code",
      "metadata": {
        "colab": {
          "base_uri": "https://localhost:8080/"
        },
        "id": "QlDRgYoXhyIm",
        "outputId": "2e490662-0817-4e36-f93c-52a5b7d7c433"
      },
      "source": [],
      "execution_count": null,
      "outputs": [
        {
          "output_type": "execute_result",
          "data": {
            "text/plain": [
              "array([10,  9,  8,  7,  6,  5,  4,  3,  2,  1,  0])"
            ]
          },
          "metadata": {},
          "execution_count": 128
        }
      ]
    },
    {
      "cell_type": "code",
      "metadata": {
        "colab": {
          "base_uri": "https://localhost:8080/"
        },
        "id": "AgAfxlkdiuMj",
        "outputId": "eab306fe-db18-46f8-817e-01b134dc6c84"
      },
      "source": [
        "# câu 19 \n",
        "\n",
        "import numpy as np\n",
        "\n",
        "# cho mảng arr có shape 3x3\n",
        "arr = np.arange(9).reshape(3,3)\n",
        "print(arr)\n",
        "\n",
        "# Đoản ngược cột trong mảng 2 chiều\n",
        "print(arr[:, ::-1])\n"
      ],
      "execution_count": null,
      "outputs": [
        {
          "output_type": "stream",
          "text": [
            "[[0 1 2]\n",
            " [3 4 5]\n",
            " [6 7 8]]\n",
            "[[2 1 0]\n",
            " [5 4 3]\n",
            " [8 7 6]]\n"
          ],
          "name": "stdout"
        }
      ]
    },
    {
      "cell_type": "code",
      "metadata": {
        "colab": {
          "base_uri": "https://localhost:8080/"
        },
        "id": "RTw_Y11IiuMk",
        "outputId": "39025739-cba3-4c76-d376-ed6eb2b30eb8"
      },
      "source": [
        "# Câu 20 :  Tạo mảng 2 chiều chứa số random kiểu float từ 5 đến 10\n",
        "\n",
        "import numpy as np\n",
        "\n",
        "\n",
        "# Tạo mảng 2 chiều 5x3 từ 5 đến 10\n",
        "# Cách Dùng hàm random.uniform \n",
        "\n",
        "arr = np.random.uniform(5,10,size=(5,3))\n",
        "print(arr)\n"
      ],
      "execution_count": null,
      "outputs": [
        {
          "output_type": "stream",
          "text": [
            "[[9.66083112 7.84307155 7.88886682]\n",
            " [6.68696123 5.00720022 7.14233591]\n",
            " [8.42086362 7.13887061 6.48741113]\n",
            " [6.50111119 7.17211085 8.6561045 ]\n",
            " [8.07002559 5.02075177 8.4524181 ]]\n"
          ],
          "name": "stdout"
        }
      ]
    },
    {
      "cell_type": "code",
      "metadata": {
        "colab": {
          "base_uri": "https://localhost:8080/"
        },
        "id": "jCIhbY4RiuMk",
        "outputId": "62c58436-d937-4bd8-ce9a-c4efd8f6c5e8"
      },
      "source": [
        "# câu 21 \n",
        "\n",
        "import numpy as np\n",
        "\n",
        "# cho mảng a chứa các số ngẫu nhiên từ [1, 50)\n",
        "a = np.random.uniform(1,50,20)\n",
        "print(a)\n",
        "\n",
        "# Thay thế tất cả các giá trị lớn hơn một giá trị cho trước thành một phạm vi [10,30]\n",
        "# Thay thế tất cả các giá trị lớn hơn 30 thành 30 và dưới 10 thành 10\n",
        "# # Cách 1 : dùng hàm np.clip  \n",
        "# result = np.clip(a, 10, 30)\n",
        "# print(\"Cách 1: \\n\",result)\n",
        "\n",
        "\n",
        "# # Cách 2 : dùng hàm np.wheraaa\n",
        "result = np.where(a < 10, 10, np.where(a > 30, 30, a))\n",
        "print(\"Cách 2: \\n\",result)\n"
      ],
      "execution_count": null,
      "outputs": [
        {
          "output_type": "stream",
          "text": [
            "[10.72229248 39.4021584   5.12959618 44.84894619 37.29928622 44.44815499\n",
            " 25.25827552  9.30793455 46.894014   11.49879594  5.66158828 41.68512482\n",
            " 48.35442255 48.3685549   3.37282506 27.29871513 30.47248161 10.15229528\n",
            "  1.8501203  26.53161158]\n",
            "Cách 2: \n",
            " [10.72229248 30.         10.         30.         30.         30.\n",
            " 25.25827552 10.         30.         11.49879594 10.         30.\n",
            " 30.         30.         10.         27.29871513 30.         10.15229528\n",
            " 10.         26.53161158]\n"
          ],
          "name": "stdout"
        }
      ]
    },
    {
      "cell_type": "code",
      "metadata": {
        "colab": {
          "base_uri": "https://localhost:8080/"
        },
        "id": "7xtOwmJGiuMl",
        "outputId": "adc1d434-e019-4184-ee5e-a45508ead90d"
      },
      "source": [
        "# câu 22: Lấy vị trí của n giá trị đứng đầu từ một mảng numpy\n",
        "\n",
        "import numpy as np\n",
        "\n",
        "# cho mảng a chứa các số ngẫu nhiên từ [1, 50)\n",
        "a = np.random.uniform(1,50, 20)\n",
        "print(a)\n",
        "\n",
        "# Lấy vị trí của 5 giá trị lớn nhất trong một mảng a\n",
        "\n",
        "# # Cách 1 : dùng hàm np.argsort() \n",
        "# print('Vị trí : ',np.argsort(a)[-5:])\n",
        "# print('Giá trị : ',a[np.argsort(a)[-5:]]) \n",
        "\n",
        "# # Cách 2 : dùng hàm sort() \n",
        "print('Vị trí : ',np.argpartition(a,-5)[-5:])\n",
        "print('Giá trị : ', a[np.argpartition(a,-5)[-5:]])\n",
        "\n"
      ],
      "execution_count": null,
      "outputs": [
        {
          "output_type": "stream",
          "text": [
            "[10.3084571  35.99022873 39.8025771  48.35726706 44.39250489  3.43483583\n",
            " 19.43177355  5.91876862 29.67148708 21.37975197  3.17874512 49.31053748\n",
            " 25.61773024 26.92818124  6.02148498 30.71156976  5.90523397 39.33968728\n",
            " 33.55566362 26.18936206]\n",
            "Vị trí :  [17  2  3  4 11]\n",
            "Giá trị :  [39.33968728 39.8025771  48.35726706 44.39250489 49.31053748]\n"
          ],
          "name": "stdout"
        }
      ]
    },
    {
      "cell_type": "code",
      "metadata": {
        "colab": {
          "base_uri": "https://localhost:8080/"
        },
        "id": "JjRhnMAyCQ-3",
        "outputId": "1dca6c3c-9201-4768-8877-9e52619d3028"
      },
      "source": [
        "arr = np.array([0, 15, 2, 42, 13])\n",
        "ind = np.argsort(arr)\n",
        "print(ind)\n",
        "result = arr[ind]\n",
        "print(result)"
      ],
      "execution_count": null,
      "outputs": [
        {
          "output_type": "stream",
          "text": [
            "[0 2 4 1 3]\n",
            "[ 0  2 13 15 42]\n"
          ],
          "name": "stdout"
        }
      ]
    },
    {
      "cell_type": "code",
      "metadata": {
        "colab": {
          "base_uri": "https://localhost:8080/"
        },
        "id": "EI-tdwviEw00",
        "outputId": "9c5dbf86-40d6-4804-a305-b8a84a11b5b3"
      },
      "source": [
        "arr = np.array([0, 13, 2, 42, 13])\n",
        "ind = np.argpartition(arr, 3)\n",
        "print(ind)\n",
        "result = arr[ind]\n",
        "print(result)"
      ],
      "execution_count": null,
      "outputs": [
        {
          "output_type": "stream",
          "text": [
            "[0 2 4 1 3]\n",
            "[ 0  2 13 13 42]\n"
          ],
          "name": "stdout"
        }
      ]
    },
    {
      "cell_type": "code",
      "metadata": {
        "colab": {
          "base_uri": "https://localhost:8080/"
        },
        "id": "IDipEdEvFONX",
        "outputId": "8ac7e48b-2de6-4e18-a959-bc27bb342ab2"
      },
      "source": [
        "arr = np.array([0, 15, 2, 42, 13])\n",
        "ind = np.argpartition(arr, 2)\n",
        "print(ind)\n",
        "result = arr[ind]\n",
        "print(result)"
      ],
      "execution_count": null,
      "outputs": [
        {
          "output_type": "stream",
          "text": [
            "[0 2 4 3 1]\n",
            "[ 0  2 13 42 15]\n"
          ],
          "name": "stdout"
        }
      ]
    },
    {
      "cell_type": "code",
      "metadata": {
        "colab": {
          "base_uri": "https://localhost:8080/"
        },
        "id": "Zgwe0jSOHHVV",
        "outputId": "d7beba6c-b00f-4e47-d272-8b808c1b6040"
      },
      "source": [
        "arr = np.array([0, 15, 2, 42, 13])\n",
        "ind = np.argpartition(arr, -3)\n",
        "print(ind)\n",
        "result = arr[ind]\n",
        "print(result)"
      ],
      "execution_count": null,
      "outputs": [
        {
          "output_type": "stream",
          "text": [
            "[0 2 4 3 1]\n",
            "[ 0  2 13 42 15]\n"
          ],
          "name": "stdout"
        }
      ]
    },
    {
      "cell_type": "code",
      "metadata": {
        "id": "Nd_x4CF7f85-"
      },
      "source": [
        "np.where(a)"
      ],
      "execution_count": null,
      "outputs": []
    },
    {
      "cell_type": "code",
      "metadata": {
        "colab": {
          "base_uri": "https://localhost:8080/"
        },
        "id": "7o5fMCQ-iuMn",
        "outputId": "53214b8a-c0ad-44ea-c086-84b39136195e"
      },
      "source": [
        "# câu 23: Chuyển đổi một mảng chứa nhiều mảng thành một mảng 1d phẳng\n",
        "\n",
        "import numpy as np\n",
        "\n",
        "\n",
        "# cho array_of_arrays như sau\n",
        "arr1 = np.arange(3)\n",
        "arr2 = np.arange(3,7)\n",
        "arr3 = np.arange(7,10)\n",
        "\n",
        "array_of_arrays = np.array([arr1, arr2, arr3], dtype=object)\n",
        "print('array_of_arrays: ', array_of_arrays)\n",
        "\n",
        "# Chuyển đổi array_of_arrays thành mảng 1d tuyến tính phẳng \n",
        "#Cách 1: \n",
        "arr_2d = np.array([a for arr in array_of_arrays for a in arr])\n",
        "print(arr_2d)\n",
        "# #Cách 2 : \n",
        "arr_2d = np.concatenate(array_of_arrays)\n",
        "print(arr_2d)\n",
        "# #Cách 3:\n",
        "arr_2d = np.hstack(array_of_arrays)\n",
        "print(arr_2d)\n"
      ],
      "execution_count": null,
      "outputs": [
        {
          "output_type": "stream",
          "text": [
            "array_of_arrays:  [array([0, 1, 2]) array([3, 4, 5, 6]) array([7, 8, 9])]\n",
            "[0 1 2 3 4 5 6 7 8 9]\n",
            "[0 1 2 3 4 5 6 7 8 9]\n",
            "[0 1 2 3 4 5 6 7 8 9]\n"
          ],
          "name": "stdout"
        }
      ]
    },
    {
      "cell_type": "code",
      "metadata": {
        "colab": {
          "base_uri": "https://localhost:8080/"
        },
        "id": "Aju3MZIliuMn",
        "outputId": "d5eb8afb-953a-47ea-e82a-f2ac8ab17679"
      },
      "source": [
        "# câu 24: Tìm giá trị lớn nhất trong mỗi hàng của mảng 2d \n",
        "\n",
        "import numpy as np\n",
        "\n",
        "# cho mảng a\n",
        "a = np.random.randint(1, 10, [5,3])\n",
        "print(a)\n",
        "\n",
        "\n",
        "# Cách 1 : dùng np.amax\n",
        "result = np.amax(a, axis=1)\n",
        "print(\"Cách 1: \",result)\n",
        "#Cách 2 : dung np.apply_along_axis và np.max\n",
        "# result = np.apply_along_axis(lambda x : max(x), axis=1, arr=a)\n",
        "result = np.apply_along_axis(np.max, axis=1, arr=a)\n",
        "print(\"Cách 2: \",result)\n"
      ],
      "execution_count": null,
      "outputs": [
        {
          "output_type": "stream",
          "text": [
            "[[2 6 7]\n",
            " [4 1 6]\n",
            " [6 4 9]\n",
            " [4 8 6]\n",
            " [5 1 3]]\n",
            "Cách 1:  [7 6 9 8 5]\n",
            "Cách 2:  [7 6 9 8 5]\n"
          ],
          "name": "stdout"
        }
      ]
    },
    {
      "cell_type": "code",
      "metadata": {
        "colab": {
          "base_uri": "https://localhost:8080/"
        },
        "id": "KLtEMEWeiuMp",
        "outputId": "0bbcfd3a-01e3-4ec1-99d4-1e94549905d7"
      },
      "source": [
        "# câu 25\n",
        "\n",
        "import numpy as np\n",
        "\n",
        "# cho mảng a\n",
        "a = np.random.randint(1, 10, [5,3])\n",
        "print(a)\n",
        "\n",
        "# tính tỉ số min/max cho mỗi hàng trong mảng a\n",
        "print('min-by-max :',np.apply_along_axis(lambda x: np.min(x)/np.max(x), arr=a, axis=1) )\n",
        "\n",
        "print('min hang : ', np.apply_along_axis(lambda x: np.min(x), arr=a, axis=1) )\n",
        "\n",
        "print('max hang : ', np.apply_along_axis(lambda x: np.max(x), arr=a, axis=1) )\n",
        "\n",
        "# print(np.min(a, axis=1)/np.max(a, axis=1))"
      ],
      "execution_count": null,
      "outputs": [
        {
          "output_type": "stream",
          "text": [
            "[[1 5 8]\n",
            " [9 1 8]\n",
            " [6 5 2]\n",
            " [1 5 5]\n",
            " [9 7 9]]\n",
            "min-by-max : [0.125      0.11111111 0.33333333 0.2        0.77777778]\n",
            "min hang :  [1 1 2 1 7]\n",
            "max hang :  [8 9 6 5 9]\n",
            "[0.125      0.11111111 0.33333333 0.2        0.77777778]\n"
          ],
          "name": "stdout"
        }
      ]
    },
    {
      "cell_type": "code",
      "metadata": {
        "id": "6iQITR12eRC5"
      },
      "source": [],
      "execution_count": null,
      "outputs": []
    },
    {
      "cell_type": "code",
      "metadata": {
        "colab": {
          "base_uri": "https://localhost:8080/"
        },
        "id": "AHblNdejiuMq",
        "outputId": "c35838ad-df20-48c5-b1d7-781ef65e38eb"
      },
      "source": [
        "# câu 26: Tìm các vị trí có giá trị trùng lặp trong một mảng numpy\n",
        "\n",
        "import numpy as np\n",
        "\n",
        "# cho mảng a\n",
        "a = np.random.randint(0, 5, 10)\n",
        "print(a)\n",
        "\n",
        "# Tìm các phần tử trùng lặp (lần xuất hiện thứ 2 trở đi) trong mảng đã cho\n",
        "# và đánh dấu chúng là True. Lần đầu tiên xuất hiện là False.\n",
        "\n",
        "# hint: dùng np.full và np.unique\n",
        "\n",
        "# Tạo mảng gồm tất cả giá tri True\n",
        "out = np.full(a.shape[0], True)\n",
        "\n",
        "# Tìm tất cả vị trí của phần tử duy nhất \n",
        "unique_a, return_index = np.unique(a, return_index=True)\n",
        "\n",
        "# MĐánh dấu các vị trí đó là False\n",
        "out[return_index] = False\n",
        "print(out)"
      ],
      "execution_count": null,
      "outputs": [
        {
          "output_type": "stream",
          "text": [
            "[1 3 0 3 4 0 2 2 4 0]\n",
            "[False False False  True False  True False  True  True  True]\n"
          ],
          "name": "stdout"
        }
      ]
    },
    {
      "cell_type": "code",
      "metadata": {
        "colab": {
          "base_uri": "https://localhost:8080/"
        },
        "id": "a0NwrPoChT5d",
        "outputId": "c525fe61-6f17-48aa-bb00-23178d5c589f"
      },
      "source": [
        "arr = np.array([0, 2, 0, 15, 42, 2])\n",
        "unique_a, return_index, return_inverse, return_counts = \\\n",
        "    np.unique(arr, return_index=True, return_inverse=True, return_counts=True)\n",
        "\n",
        "print(\"arr = \",arr)\n",
        "print(\"unique_a = \", unique_a)\n",
        "print(\"return_index = \", return_index)\n",
        "print(\"return_inverse = \", return_inverse)\n",
        "print(\"return_counts = \", return_counts)"
      ],
      "execution_count": null,
      "outputs": [
        {
          "output_type": "stream",
          "text": [
            "arr =  [ 0  2  0 15 42  2]\n",
            "unique_a =  [ 0  2 15 42]\n",
            "return_index =  [0 1 3 4]\n",
            "return_inverse =  [0 1 0 2 3 1]\n",
            "return_counts =  [2 2 1 1]\n"
          ],
          "name": "stdout"
        }
      ]
    },
    {
      "cell_type": "code",
      "metadata": {
        "colab": {
          "base_uri": "https://localhost:8080/"
        },
        "id": "uJbUryBIiuMr",
        "outputId": "60f36e83-65ff-4227-873e-168acfa5f29b"
      },
      "source": [
        "# câu 27: loại bỏ tất cả các giá trị còn thiếu (np.nan) trong một mảng\n",
        "\n",
        "import numpy as np\n",
        "\n",
        "# cho mảng a\n",
        "a = np.array([1,2,3,np.nan,5,6,7,np.nan])\n",
        "print(a)\n",
        "# bỏ tất cả các giá trị nan từ một mảng numpy 1D\n",
        "out = a[~np.isnan(a)]\n",
        "print(out)\n"
      ],
      "execution_count": null,
      "outputs": [
        {
          "output_type": "stream",
          "text": [
            "[ 1.  2.  3. nan  5.  6.  7. nan]\n",
            "[1. 2. 3. 5. 6. 7.]\n"
          ],
          "name": "stdout"
        }
      ]
    },
    {
      "cell_type": "code",
      "metadata": {
        "colab": {
          "base_uri": "https://localhost:8080/"
        },
        "id": "ZQz_Iju1lySc",
        "outputId": "70123f73-d70e-4ccf-d21f-3bb81e3b9890"
      },
      "source": [
        "print(a)\n",
        "a[3] == np.nan"
      ],
      "execution_count": null,
      "outputs": [
        {
          "output_type": "stream",
          "text": [
            "[ 1.  2.  3. nan  5.  6.  7. nan]\n"
          ],
          "name": "stdout"
        },
        {
          "output_type": "execute_result",
          "data": {
            "text/plain": [
              "False"
            ]
          },
          "metadata": {},
          "execution_count": 55
        }
      ]
    },
    {
      "cell_type": "code",
      "metadata": {
        "colab": {
          "base_uri": "https://localhost:8080/"
        },
        "id": "14ny39ANogXC",
        "outputId": "7652a083-df2c-40bf-8668-8f4cf4a58fea"
      },
      "source": [
        "arr = np.array([0, 2, np.nan, 15, 42, np.nan])\n",
        "out = np.isnan(arr)\n",
        "print(arr)\n",
        "print(out)"
      ],
      "execution_count": null,
      "outputs": [
        {
          "output_type": "stream",
          "text": [
            "[ 0.  2. nan 15. 42. nan]\n",
            "[False False  True False False  True]\n"
          ],
          "name": "stdout"
        }
      ]
    },
    {
      "cell_type": "code",
      "metadata": {
        "colab": {
          "base_uri": "https://localhost:8080/"
        },
        "id": "fIiaUpCxiuMs",
        "outputId": "01c27db7-c8f6-47ee-d97e-913324c4f719"
      },
      "source": [
        "# câu 28: \n",
        "\n",
        "import numpy as np\n",
        "\n",
        "a = np.array([1,2,3,4,5])\n",
        "b = np.array([4,5,6,7,8])\n",
        "\n",
        "# tính khoảng cách giữa hai mảng a và b, dùng np.linalg.norm\n",
        "dist = np.linalg.norm(a-b)\n",
        "dist"
      ],
      "execution_count": null,
      "outputs": [
        {
          "output_type": "execute_result",
          "data": {
            "text/plain": [
              "4.486046343663662"
            ]
          },
          "metadata": {},
          "execution_count": 62
        }
      ]
    },
    {
      "cell_type": "code",
      "metadata": {
        "colab": {
          "base_uri": "https://localhost:8080/"
        },
        "id": "JOAJMr08q63N",
        "outputId": "96c4c854-afbc-4527-d3af-46da530c8330"
      },
      "source": [
        "arr = np.array([0, 2, 3, 1, 4])\n",
        "# norm(arr)\n",
        "np.linalg.norm(arr)"
      ],
      "execution_count": null,
      "outputs": [
        {
          "output_type": "execute_result",
          "data": {
            "text/plain": [
              "5.477225575051661"
            ]
          },
          "metadata": {},
          "execution_count": 60
        }
      ]
    },
    {
      "cell_type": "code",
      "metadata": {
        "colab": {
          "base_uri": "https://localhost:8080/"
        },
        "id": "qbeyD1SViuMt",
        "outputId": "1faf875c-851d-45da-d739-4a88e13a8dcc"
      },
      "source": [
        "# câu 29: Tìm tất cả các cực đại cục bộ (hay còn gọi các đỉnh) trong một mảng 1d\n",
        "\n",
        "import numpy as np\n",
        "\n",
        "\n",
        "\n",
        "# cho mảng a như sau\n",
        "a = np.array([1, 3, 7, 1, 2, 6, 0, 1])\n",
        "\n",
        "# Tìm tất cả các đỉnh trong một mảng numpy 1D. \n",
        "# Đỉnh là các điểm được bao quanh bởi các giá trị nhỏ hơn ở cả hai phía.\n",
        "\n",
        "# hint: dùng np.diff và np.sign\n",
        "\n",
        "doublediff = np.diff(np.sign(np.diff(a)))\n",
        "peak_locations = np.where(doublediff == -2)[0] + 1\n",
        "peak_locations"
      ],
      "execution_count": null,
      "outputs": [
        {
          "output_type": "execute_result",
          "data": {
            "text/plain": [
              "array([2, 5])"
            ]
          },
          "metadata": {},
          "execution_count": 71
        }
      ]
    },
    {
      "cell_type": "code",
      "metadata": {
        "colab": {
          "base_uri": "https://localhost:8080/"
        },
        "id": "uN-7ujD4s9bk",
        "outputId": "f8394d1c-0233-4047-dda9-b0b7fdbd889e"
      },
      "source": [
        "arr = np.array([1, 3, 7, 1])\n",
        "out = np.diff(arr, n=1)\n",
        "print(out)"
      ],
      "execution_count": null,
      "outputs": [
        {
          "output_type": "stream",
          "text": [
            "[ 2  4 -6]\n"
          ],
          "name": "stdout"
        }
      ]
    },
    {
      "cell_type": "code",
      "metadata": {
        "colab": {
          "base_uri": "https://localhost:8080/"
        },
        "id": "K3TgNmt20Urv",
        "outputId": "6883d0c8-f083-472f-8884-5dedc4a99926"
      },
      "source": [
        "arr = np.array([1, 0, -7, 10])\n",
        "out = np.sign(a)\n",
        "print(out)"
      ],
      "execution_count": null,
      "outputs": [
        {
          "output_type": "stream",
          "text": [
            "[ 1  0 -1  1]\n"
          ],
          "name": "stdout"
        }
      ]
    },
    {
      "cell_type": "code",
      "metadata": {
        "colab": {
          "base_uri": "https://localhost:8080/"
        },
        "id": "0e2vEpmL1p-R",
        "outputId": "d467ca62-72b6-41f8-ab3b-7db8f66c5c19"
      },
      "source": [
        "np.diff(a)"
      ],
      "execution_count": null,
      "outputs": [
        {
          "output_type": "execute_result",
          "data": {
            "text/plain": [
              "array([ 2,  4, -6,  1,  4, -6,  1])"
            ]
          },
          "metadata": {},
          "execution_count": 72
        }
      ]
    },
    {
      "cell_type": "code",
      "metadata": {
        "colab": {
          "base_uri": "https://localhost:8080/"
        },
        "id": "N9y6YY2A26W7",
        "outputId": "c92e0174-bc11-4fb9-b4be-7776acf8dac4"
      },
      "source": [
        "np.sign(np.diff(a))"
      ],
      "execution_count": null,
      "outputs": [
        {
          "output_type": "execute_result",
          "data": {
            "text/plain": [
              "array([ 1,  1, -1,  1,  1, -1,  1])"
            ]
          },
          "metadata": {},
          "execution_count": 73
        }
      ]
    },
    {
      "cell_type": "code",
      "metadata": {
        "colab": {
          "base_uri": "https://localhost:8080/"
        },
        "id": "eVzZolbX29NE",
        "outputId": "b3ad7095-86fb-4884-833a-6475367d48ab"
      },
      "source": [
        "np.diff(np.sign(np.diff(a)))"
      ],
      "execution_count": null,
      "outputs": [
        {
          "output_type": "execute_result",
          "data": {
            "text/plain": [
              "array([ 0, -2,  2,  0, -2,  2])"
            ]
          },
          "metadata": {},
          "execution_count": 74
        }
      ]
    },
    {
      "cell_type": "code",
      "metadata": {
        "colab": {
          "base_uri": "https://localhost:8080/"
        },
        "id": "nPkuWL-22_zt",
        "outputId": "c25d2aa7-400f-4b4c-9082-b6b94c2bcd59"
      },
      "source": [
        "np.where(doublediff == -2)[0] + 1"
      ],
      "execution_count": null,
      "outputs": [
        {
          "output_type": "execute_result",
          "data": {
            "text/plain": [
              "array([2, 5])"
            ]
          },
          "metadata": {},
          "execution_count": 77
        }
      ]
    },
    {
      "cell_type": "code",
      "metadata": {
        "id": "xaAXcifi3ILd",
        "colab": {
          "base_uri": "https://localhost:8080/",
          "height": 265
        },
        "outputId": "3297dafd-9396-4bc1-aff8-89824298fb46"
      },
      "source": [
        "import matplotlib.pyplot as plt\n",
        "%matplotlib inline  \n",
        "y = [1, 3, 7, 1, 2, 6, 0, 1]\n",
        "x = list(range(len(y)))\n",
        "\n",
        "plt.plot(x,y)\n",
        "plt.plot([2, 5],[7, 6], 'ro')\n",
        "\n",
        "plt.show()"
      ],
      "execution_count": null,
      "outputs": [
        {
          "output_type": "display_data",
          "data": {
            "image/png": "[encoded data removed]",
            "text/plain": [
              "<Figure size 432x288 with 1 Axes>"
            ]
          },
          "metadata": {
            "needs_background": "light"
          }
        }
      ]
    },
    {
      "cell_type": "code",
      "metadata": {
        "id": "mPJJEO47v5AC"
      },
      "source": [
        "diff1[i] = arr[i+1]-arr[i]\n",
        "diff2[i] = diff1[i+1]-diff1[i] = (arr[i+2]-arr[i+1])-(arr[i+1]-arr[i])"
      ],
      "execution_count": null,
      "outputs": []
    }
  ]
}