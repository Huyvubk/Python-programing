{
  "cells": [
    {
      "cell_type": "markdown",
      "metadata": {
        "id": "view-in-github",
        "colab_type": "text"
      },
      "source": [
        "<a href=\"https://colab.research.google.com/github/Huyvubk/Python-programing/blob/main/Collections_python.ipynb\" target=\"_parent\"><img src=\"https://colab.research.google.com/assets/colab-badge.svg\" alt=\"Open In Colab\"/></a>"
      ]
    },
    {
      "cell_type": "markdown",
      "id": "23bfe16b",
      "metadata": {
        "id": "23bfe16b"
      },
      "source": [
        "## Counters "
      ]
    },
    {
      "cell_type": "code",
      "execution_count": 2,
      "id": "5478d4e7",
      "metadata": {
        "id": "5478d4e7",
        "outputId": "e6755c0f-6875-4087-cef1-5b58cee044d2",
        "colab": {
          "base_uri": "https://localhost:8080/"
        }
      },
      "outputs": [
        {
          "output_type": "execute_result",
          "data": {
            "text/plain": [
              "Counter({'V': 1, 'I': 1, 'E': 1, 'T': 1, 'N': 1, 'A': 1, 'M': 1})"
            ]
          },
          "metadata": {},
          "execution_count": 2
        }
      ],
      "source": [
        "from collections import Counter\n",
        "\n",
        "# Count Characters\n",
        "Counter('VIETNAM')"
      ]
    },
    {
      "cell_type": "code",
      "execution_count": 3,
      "id": "d8a06d51",
      "metadata": {
        "id": "d8a06d51",
        "outputId": "8af6d2fb-20a8-4119-a786-714b52bb3e8e",
        "colab": {
          "base_uri": "https://localhost:8080/"
        }
      },
      "outputs": [
        {
          "output_type": "execute_result",
          "data": {
            "text/plain": [
              "Counter({1: 2, 2: 2, 3: 1, 4: 1, 5: 1})"
            ]
          },
          "metadata": {},
          "execution_count": 3
        }
      ],
      "source": [
        "# Count List elements\n",
        "Counter([1,2,3,4,5,1,2])"
      ]
    },
    {
      "cell_type": "code",
      "execution_count": 4,
      "id": "7045dae5",
      "metadata": {
        "id": "7045dae5",
        "outputId": "647e58bf-ad0b-4ee3-cdb6-c1d117435046",
        "colab": {
          "base_uri": "https://localhost:8080/"
        }
      },
      "outputs": [
        {
          "output_type": "stream",
          "name": "stdout",
          "text": [
            "Counter({'b': 5, 'a': 3, 'c': 2})\n"
          ]
        }
      ],
      "source": [
        "# with keyword arguments\n",
        "print(Counter(a=3, b=5, c=2))"
      ]
    },
    {
      "cell_type": "code",
      "execution_count": 5,
      "id": "d5ca8a45",
      "metadata": {
        "id": "d5ca8a45",
        "outputId": "34287a54-8dd1-464e-e4b2-bacd6a6c5e5c",
        "colab": {
          "base_uri": "https://localhost:8080/"
        }
      },
      "outputs": [
        {
          "output_type": "stream",
          "name": "stdout",
          "text": [
            "Counter({'John Wick': 10.0, 'Harry': 9.0, 'Ben': 8.0, 'Alice': 7.0})\n"
          ]
        }
      ],
      "source": [
        "# with dictionary\n",
        "print(Counter({'Alice':7.0, 'Harry':9.0, 'John Wick':10.0, 'Ben':8.0}))"
      ]
    },
    {
      "cell_type": "code",
      "execution_count": 7,
      "id": "c5b7a13e",
      "metadata": {
        "id": "c5b7a13e",
        "outputId": "f7258260-abe1-4280-b4b0-dba66d4872cd",
        "colab": {
          "base_uri": "https://localhost:8080/"
        }
      },
      "outputs": [
        {
          "output_type": "stream",
          "name": "stdout",
          "text": [
            "Counter()\n"
          ]
        }
      ],
      "source": [
        "from collections import Counter\n",
        "\n",
        "coun = Counter()\n",
        "print(coun)"
      ]
    },
    {
      "cell_type": "code",
      "execution_count": 8,
      "id": "4f23ffe5",
      "metadata": {
        "id": "4f23ffe5",
        "outputId": "8d84b479-8895-4bab-d14c-99db1a08ab8e",
        "colab": {
          "base_uri": "https://localhost:8080/"
        }
      },
      "outputs": [
        {
          "output_type": "stream",
          "name": "stdout",
          "text": [
            "Counter({1: 1, 2: 1, 3: 1, 4: 1, 5: 1})\n"
          ]
        }
      ],
      "source": [
        "coun.update([1, 2, 3, 4, 5])\n",
        "print(coun)"
      ]
    },
    {
      "cell_type": "markdown",
      "id": "ca4babbb",
      "metadata": {
        "id": "ca4babbb"
      },
      "source": [
        "#### Ex1: Đếm số lần xuất hiện của từ trong một đoạn văn"
      ]
    },
    {
      "cell_type": "code",
      "execution_count": 9,
      "id": "0077c500",
      "metadata": {
        "id": "0077c500",
        "outputId": "989fc967-1bd9-491c-e246-5fb59d183a4d",
        "colab": {
          "base_uri": "https://localhost:8080/",
          "height": 91
        }
      },
      "outputs": [
        {
          "output_type": "execute_result",
          "data": {
            "text/plain": [
              "'Mình có một ông anh học bách khoa cơ khí, sinh năm 96. Tự mày mò học code rồi đi làm remote cho công ty Mỹ 2 năm nay. Mỗi tối online 3-4 giờ là xong việc. Lương tháng 3k6. Nhưng thu nhập chính vẫn là từ nhận các project bên ngoài làm thêm. Tuần làm 2,3 cái nhẹ nhàng 9,10k tiền tươi thóc thật không phải đóng thuế. Làm gần được 3 năm mà nhà xe nó đã mua đủ cả. Nghĩ mà thèm.Gái gú thì cứ nghe nó bảo làm CNTT thì chảy nước. Có bé kia dân du học sinh Úc, về được cô chị giới thiệu làm ngân hàng VCB. Thế nào thằng ấy đi mở thẻ tín dụng gặp phải thế là hốt được cả chị lẫn em. 3 đứa nó sống chung một căn hộ cao cấp. Nhà con bé kia biết chuyện ban đầu phản đối sau biết thằng đấy học IT thì đổi thái độ, cách ba bữa hỏi thăm, năm bữa tặng quà lấy long, luôn giục cưới kẻo lỡ kèo ngon'"
            ],
            "application/vnd.google.colaboratory.intrinsic+json": {
              "type": "string"
            }
          },
          "metadata": {},
          "execution_count": 9
        }
      ],
      "source": [
        "text1 = '''\n",
        "Mình có một ông anh học bách khoa cơ khí, sinh năm 96. Tự mày mò học code rồi đi làm remote cho công ty Mỹ 2 năm nay. Mỗi tối online 3-4 giờ là xong việc. Lương tháng 3k6. Nhưng thu nhập chính vẫn là từ nhận các project bên ngoài làm thêm. Tuần làm 2,3 cái nhẹ nhàng 9,10k tiền tươi thóc thật không phải đóng thuế. Làm gần được 3 năm mà nhà xe nó đã mua đủ cả. Nghĩ mà thèm.\n",
        "Gái gú thì cứ nghe nó bảo làm CNTT thì chảy nước. Có bé kia dân du học sinh Úc, về được cô chị giới thiệu làm ngân hàng VCB. Thế nào thằng ấy đi mở thẻ tín dụng gặp phải thế là hốt được cả chị lẫn em. 3 đứa nó sống chung một căn hộ cao cấp. Nhà con bé kia biết chuyện ban đầu phản đối sau biết thằng đấy học IT thì đổi thái độ, cách ba bữa hỏi thăm, năm bữa tặng quà lấy long, luôn giục cưới kẻo lỡ kèo ngon\n",
        "'''\n",
        "text = text1.replace(\"\\n\", \"\")\n",
        "text\n"
      ]
    },
    {
      "cell_type": "code",
      "execution_count": 10,
      "id": "4bbc27c5",
      "metadata": {
        "id": "4bbc27c5",
        "outputId": "72ae098b-a543-42f6-8247-09b13faa7d7c",
        "colab": {
          "base_uri": "https://localhost:8080/"
        }
      },
      "outputs": [
        {
          "output_type": "stream",
          "name": "stdout",
          "text": [
            "{'chị', 'lỡ', 'nghe', 'thì', '2,3', 'online', 'tháng', 'tươi', 'cứ', 'thẻ', 'dụng', 'giới', 'thiệu', 'cả', 'xong', 'thật', 'công', 'remote', 'việc.', 'khoa', 'Nhưng', 'du', 'về', 'CNTT', 'cấp.', 'VCB.', 'kia', 'cả.', 'Nghĩ', 'gần', 'nay.', 'khí,', 'cho', 'học', 'cô', 'tiền', 'biết', 'long,', 'Thế', 'code', 'là', 'thăm,', 'năm', 'ấy', 'Mỗi', 'có', 'hộ', '96.', 'làm', 'quà', 'Nhà', 'độ,', 'anh', 'ba', 'nhận', 'con', 'rồi', 'cao', '2', 'Tuần', 'nhàng', 'ty', 'nó', 'project', 'đấy', 'luôn', 'đủ', 'gú', '3-4', 'hỏi', 'Có', 'đối', 'lấy', 'giờ', 'bảo', 'bé', 'đứa', 'sinh', 'phải', 'nhà', 'mua', 'chảy', 'thái', 'nào', 'giục', 'không', 'mà', 'phản', 'hàng', 'tối', 'em.', 'chuyện', 'thu', 'ban', 'Úc,', 'thêm.', 'lẫn', 'sau', 'ngon', 'ngân', 'Tự', 'ngoài', 'cơ', 'nước.', 'thuế.', 'đi', '9,10k', 'mở', '3', 'đã', 'gặp', 'ông', 'Lương', 'Làm', 'một', 'bên', 'bách', 'các', 'được', 'thế', 'nhẹ', 'chung', 'thằng', 'sống', 'căn', 'kèo', 'dân', 'kẻo', 'Mình', 'từ', 'thóc', 'đổi', 'vẫn', 'tín', '3k6.', 'IT', 'thèm.Gái', 'hốt', 'cách', 'mày', 'Mỹ', 'bữa', 'nhập', 'đóng', 'cưới', 'đầu', 'tặng', 'mò', 'cái', 'xe', 'chính'}\n"
          ]
        }
      ],
      "source": [
        "# Sử dựng set\n",
        "word_count_dict = set(text.split())\n",
        "print(word_count_dict)"
      ]
    },
    {
      "cell_type": "code",
      "execution_count": 11,
      "id": "4f03faae",
      "metadata": {
        "id": "4f03faae",
        "outputId": "2e6883cc-0b29-4df8-8ce9-b87a2b2f8ff2",
        "colab": {
          "base_uri": "https://localhost:8080/"
        }
      },
      "outputs": [
        {
          "output_type": "stream",
          "name": "stdout",
          "text": [
            "{'Mình': 1, 'có': 1, 'một': 2, 'ông': 1, 'anh': 1, 'học': 4, 'bách': 1, 'khoa': 1, 'cơ': 1, 'khí,': 1, 'sinh': 2, 'năm': 4, '96.': 1, 'Tự': 1, 'mày': 1, 'mò': 1, 'code': 1, 'rồi': 1, 'đi': 2, 'làm': 5, 'remote': 1, 'cho': 1, 'công': 1, 'ty': 1, 'Mỹ': 1, '2': 1, 'nay.': 1, 'Mỗi': 1, 'tối': 1, 'online': 1, '3-4': 1, 'giờ': 1, 'là': 3, 'xong': 1, 'việc.': 1, 'Lương': 1, 'tháng': 1, '3k6.': 1, 'Nhưng': 1, 'thu': 1, 'nhập': 1, 'chính': 1, 'vẫn': 1, 'từ': 1, 'nhận': 1, 'các': 1, 'project': 1, 'bên': 1, 'ngoài': 1, 'thêm.': 1, 'Tuần': 1, '2,3': 1, 'cái': 1, 'nhẹ': 1, 'nhàng': 1, '9,10k': 1, 'tiền': 1, 'tươi': 1, 'thóc': 1, 'thật': 1, 'không': 1, 'phải': 2, 'đóng': 1, 'thuế.': 1, 'Làm': 1, 'gần': 1, 'được': 3, '3': 2, 'mà': 2, 'nhà': 1, 'xe': 1, 'nó': 3, 'đã': 1, 'mua': 1, 'đủ': 1, 'cả.': 1, 'Nghĩ': 1, 'thèm.Gái': 1, 'gú': 1, 'thì': 3, 'cứ': 1, 'nghe': 1, 'bảo': 1, 'CNTT': 1, 'chảy': 1, 'nước.': 1, 'Có': 1, 'bé': 2, 'kia': 2, 'dân': 1, 'du': 1, 'Úc,': 1, 'về': 1, 'cô': 1, 'chị': 2, 'giới': 1, 'thiệu': 1, 'ngân': 1, 'hàng': 1, 'VCB.': 1, 'Thế': 1, 'nào': 1, 'thằng': 2, 'ấy': 1, 'mở': 1, 'thẻ': 1, 'tín': 1, 'dụng': 1, 'gặp': 1, 'thế': 1, 'hốt': 1, 'cả': 1, 'lẫn': 1, 'em.': 1, 'đứa': 1, 'sống': 1, 'chung': 1, 'căn': 1, 'hộ': 1, 'cao': 1, 'cấp.': 1, 'Nhà': 1, 'con': 1, 'biết': 2, 'chuyện': 1, 'ban': 1, 'đầu': 1, 'phản': 1, 'đối': 1, 'sau': 1, 'đấy': 1, 'IT': 1, 'đổi': 1, 'thái': 1, 'độ,': 1, 'cách': 1, 'ba': 1, 'bữa': 2, 'hỏi': 1, 'thăm,': 1, 'tặng': 1, 'quà': 1, 'lấy': 1, 'long,': 1, 'luôn': 1, 'giục': 1, 'cưới': 1, 'kẻo': 1, 'lỡ': 1, 'kèo': 1, 'ngon': 1}\n"
          ]
        }
      ],
      "source": [
        "#dict\n",
        "word_count_dict = {}\n",
        "for w in text.split(\" \"):\n",
        "    if w in word_count_dict:\n",
        "        word_count_dict[w]+=1\n",
        "    else:\n",
        "        word_count_dict[w]=1\n",
        "print(word_count_dict)"
      ]
    },
    {
      "cell_type": "code",
      "execution_count": 12,
      "id": "4dd04ec7",
      "metadata": {
        "id": "4dd04ec7",
        "outputId": "7b18e148-f7c7-496b-d2c3-3a97438f96cf",
        "colab": {
          "base_uri": "https://localhost:8080/"
        }
      },
      "outputs": [
        {
          "output_type": "stream",
          "name": "stdout",
          "text": [
            "Counter({'làm': 5, 'học': 4, 'năm': 4, 'là': 3, 'được': 3, 'nó': 3, 'thì': 3, 'một': 2, 'sinh': 2, 'đi': 2, 'phải': 2, '3': 2, 'mà': 2, 'bé': 2, 'kia': 2, 'chị': 2, 'thằng': 2, 'biết': 2, 'bữa': 2, 'Mình': 1, 'có': 1, 'ông': 1, 'anh': 1, 'bách': 1, 'khoa': 1, 'cơ': 1, 'khí,': 1, '96.': 1, 'Tự': 1, 'mày': 1, 'mò': 1, 'code': 1, 'rồi': 1, 'remote': 1, 'cho': 1, 'công': 1, 'ty': 1, 'Mỹ': 1, '2': 1, 'nay.': 1, 'Mỗi': 1, 'tối': 1, 'online': 1, '3-4': 1, 'giờ': 1, 'xong': 1, 'việc.': 1, 'Lương': 1, 'tháng': 1, '3k6.': 1, 'Nhưng': 1, 'thu': 1, 'nhập': 1, 'chính': 1, 'vẫn': 1, 'từ': 1, 'nhận': 1, 'các': 1, 'project': 1, 'bên': 1, 'ngoài': 1, 'thêm.': 1, 'Tuần': 1, '2,3': 1, 'cái': 1, 'nhẹ': 1, 'nhàng': 1, '9,10k': 1, 'tiền': 1, 'tươi': 1, 'thóc': 1, 'thật': 1, 'không': 1, 'đóng': 1, 'thuế.': 1, 'Làm': 1, 'gần': 1, 'nhà': 1, 'xe': 1, 'đã': 1, 'mua': 1, 'đủ': 1, 'cả.': 1, 'Nghĩ': 1, 'thèm.Gái': 1, 'gú': 1, 'cứ': 1, 'nghe': 1, 'bảo': 1, 'CNTT': 1, 'chảy': 1, 'nước.': 1, 'Có': 1, 'dân': 1, 'du': 1, 'Úc,': 1, 'về': 1, 'cô': 1, 'giới': 1, 'thiệu': 1, 'ngân': 1, 'hàng': 1, 'VCB.': 1, 'Thế': 1, 'nào': 1, 'ấy': 1, 'mở': 1, 'thẻ': 1, 'tín': 1, 'dụng': 1, 'gặp': 1, 'thế': 1, 'hốt': 1, 'cả': 1, 'lẫn': 1, 'em.': 1, 'đứa': 1, 'sống': 1, 'chung': 1, 'căn': 1, 'hộ': 1, 'cao': 1, 'cấp.': 1, 'Nhà': 1, 'con': 1, 'chuyện': 1, 'ban': 1, 'đầu': 1, 'phản': 1, 'đối': 1, 'sau': 1, 'đấy': 1, 'IT': 1, 'đổi': 1, 'thái': 1, 'độ,': 1, 'cách': 1, 'ba': 1, 'hỏi': 1, 'thăm,': 1, 'tặng': 1, 'quà': 1, 'lấy': 1, 'long,': 1, 'luôn': 1, 'giục': 1, 'cưới': 1, 'kẻo': 1, 'lỡ': 1, 'kèo': 1, 'ngon': 1})\n"
          ]
        }
      ],
      "source": [
        "from collections import Counter\n",
        "word_count_dict = Counter()\n",
        "for w in text.split(\" \"):\n",
        "    #print(word_count_dict)\n",
        "    word_count_dict[w]+=1\n",
        "print(word_count_dict)"
      ]
    },
    {
      "cell_type": "code",
      "execution_count": 13,
      "id": "6858358b",
      "metadata": {
        "id": "6858358b",
        "outputId": "39487221-e2ba-48d4-b2d5-8b20e39066be",
        "colab": {
          "base_uri": "https://localhost:8080/"
        }
      },
      "outputs": [
        {
          "output_type": "stream",
          "name": "stdout",
          "text": [
            "Counter({'làm': 5, 'học': 4, 'năm': 4, 'là': 3, 'được': 3, 'nó': 3, 'thì': 3, 'một': 2, 'sinh': 2, 'đi': 2, 'phải': 2, '3': 2, 'mà': 2, 'bé': 2, 'kia': 2, 'chị': 2, 'thằng': 2, 'biết': 2, 'bữa': 2, 'Mình': 1, 'có': 1, 'ông': 1, 'anh': 1, 'bách': 1, 'khoa': 1, 'cơ': 1, 'khí,': 1, '96.': 1, 'Tự': 1, 'mày': 1, 'mò': 1, 'code': 1, 'rồi': 1, 'remote': 1, 'cho': 1, 'công': 1, 'ty': 1, 'Mỹ': 1, '2': 1, 'nay.': 1, 'Mỗi': 1, 'tối': 1, 'online': 1, '3-4': 1, 'giờ': 1, 'xong': 1, 'việc.': 1, 'Lương': 1, 'tháng': 1, '3k6.': 1, 'Nhưng': 1, 'thu': 1, 'nhập': 1, 'chính': 1, 'vẫn': 1, 'từ': 1, 'nhận': 1, 'các': 1, 'project': 1, 'bên': 1, 'ngoài': 1, 'thêm.': 1, 'Tuần': 1, '2,3': 1, 'cái': 1, 'nhẹ': 1, 'nhàng': 1, '9,10k': 1, 'tiền': 1, 'tươi': 1, 'thóc': 1, 'thật': 1, 'không': 1, 'đóng': 1, 'thuế.': 1, 'Làm': 1, 'gần': 1, 'nhà': 1, 'xe': 1, 'đã': 1, 'mua': 1, 'đủ': 1, 'cả.': 1, 'Nghĩ': 1, 'thèm.Gái': 1, 'gú': 1, 'cứ': 1, 'nghe': 1, 'bảo': 1, 'CNTT': 1, 'chảy': 1, 'nước.': 1, 'Có': 1, 'dân': 1, 'du': 1, 'Úc,': 1, 'về': 1, 'cô': 1, 'giới': 1, 'thiệu': 1, 'ngân': 1, 'hàng': 1, 'VCB.': 1, 'Thế': 1, 'nào': 1, 'ấy': 1, 'mở': 1, 'thẻ': 1, 'tín': 1, 'dụng': 1, 'gặp': 1, 'thế': 1, 'hốt': 1, 'cả': 1, 'lẫn': 1, 'em.': 1, 'đứa': 1, 'sống': 1, 'chung': 1, 'căn': 1, 'hộ': 1, 'cao': 1, 'cấp.': 1, 'Nhà': 1, 'con': 1, 'chuyện': 1, 'ban': 1, 'đầu': 1, 'phản': 1, 'đối': 1, 'sau': 1, 'đấy': 1, 'IT': 1, 'đổi': 1, 'thái': 1, 'độ,': 1, 'cách': 1, 'ba': 1, 'hỏi': 1, 'thăm,': 1, 'tặng': 1, 'quà': 1, 'lấy': 1, 'long,': 1, 'luôn': 1, 'giục': 1, 'cưới': 1, 'kẻo': 1, 'lỡ': 1, 'kèo': 1, 'ngon': 1})\n"
          ]
        }
      ],
      "source": [
        "from collections import Counter\n",
        "word_count_dict = Counter(text.split(\" \"))\n",
        "print(word_count_dict)"
      ]
    },
    {
      "cell_type": "code",
      "execution_count": 14,
      "id": "a3a36c5d",
      "metadata": {
        "id": "a3a36c5d",
        "outputId": "22b31be4-3190-472d-fa0c-b60cdee0ff54",
        "colab": {
          "base_uri": "https://localhost:8080/"
        }
      },
      "outputs": [
        {
          "output_type": "execute_result",
          "data": {
            "text/plain": [
              "[('làm', 5),\n",
              " ('học', 4),\n",
              " ('năm', 4),\n",
              " ('là', 3),\n",
              " ('được', 3),\n",
              " ('nó', 3),\n",
              " ('thì', 3),\n",
              " ('một', 2),\n",
              " ('sinh', 2),\n",
              " ('đi', 2)]"
            ]
          },
          "metadata": {},
          "execution_count": 14
        }
      ],
      "source": [
        "word_count_dict.most_common(10)"
      ]
    },
    {
      "cell_type": "markdown",
      "id": "af6d6775",
      "metadata": {
        "id": "af6d6775"
      },
      "source": [
        "# OrderedDict"
      ]
    },
    {
      "cell_type": "code",
      "execution_count": 15,
      "id": "f283cc11",
      "metadata": {
        "id": "f283cc11",
        "outputId": "5aa06b13-0794-4c9a-9e63-c3b7febcaee6",
        "colab": {
          "base_uri": "https://localhost:8080/"
        }
      },
      "outputs": [
        {
          "output_type": "stream",
          "name": "stdout",
          "text": [
            "OrderedDict([('one', 1), ('two', 2), ('three', 3)])\n"
          ]
        },
        {
          "output_type": "execute_result",
          "data": {
            "text/plain": [
              "OrderedDict([('one', 1), ('three', 3), ('two', 2)])"
            ]
          },
          "metadata": {},
          "execution_count": 15
        }
      ],
      "source": [
        "# move_to_end ()\n",
        "from collections import OrderedDict\n",
        "numbers = OrderedDict(one=1, two=2, three=3)\n",
        "print(numbers)\n",
        "\n",
        "numbers.move_to_end(\"two\")\n",
        "numbers"
      ]
    },
    {
      "cell_type": "code",
      "execution_count": 16,
      "id": "1c3e2a33",
      "metadata": {
        "id": "1c3e2a33",
        "colab": {
          "base_uri": "https://localhost:8080/"
        },
        "outputId": "99735baa-495a-487d-92ad-667ae3a9790f"
      },
      "outputs": [
        {
          "output_type": "stream",
          "name": "stdout",
          "text": [
            "OrderedDict([('b', 2), ('d', 4), ('a', 1), ('c', 3)])\n"
          ]
        },
        {
          "output_type": "execute_result",
          "data": {
            "text/plain": [
              "OrderedDict([('a', 1), ('b', 2), ('c', 3), ('d', 4)])"
            ]
          },
          "metadata": {},
          "execution_count": 16
        }
      ],
      "source": [
        "#Sorted \n",
        "from collections import OrderedDict\n",
        "letters = OrderedDict(b=2, d=4, a=1, c=3)\n",
        "print(letters)\n",
        "for key in sorted(letters):\n",
        "    letters.move_to_end(key)\n",
        "\n",
        "letters\n"
      ]
    },
    {
      "cell_type": "code",
      "execution_count": 17,
      "id": "5157c38c",
      "metadata": {
        "id": "5157c38c",
        "outputId": "6221668e-703f-4125-a8a4-ca1632a0a8dd",
        "colab": {
          "base_uri": "https://localhost:8080/"
        }
      },
      "outputs": [
        {
          "output_type": "execute_result",
          "data": {
            "text/plain": [
              "['a', 'b', 'c', 'd']"
            ]
          },
          "metadata": {},
          "execution_count": 17
        }
      ],
      "source": [
        "sorted(letters)"
      ]
    },
    {
      "cell_type": "code",
      "execution_count": 19,
      "id": "ea62f5a8",
      "metadata": {
        "id": "ea62f5a8",
        "outputId": "b8dcb94a-17c0-45b1-9e12-87009391269b",
        "colab": {
          "base_uri": "https://localhost:8080/"
        }
      },
      "outputs": [
        {
          "output_type": "stream",
          "name": "stdout",
          "text": [
            "('three', 3)\n",
            "('two', 2)\n",
            "('one', 1)\n"
          ]
        }
      ],
      "source": [
        "#.popitem() \n",
        "from collections import OrderedDict\n",
        "numbers = OrderedDict(one=1, two=2, three=3)\n",
        "\n",
        "print(numbers.popitem())\n",
        "print(numbers.popitem())\n",
        "print(numbers.popitem())\n"
      ]
    },
    {
      "cell_type": "markdown",
      "id": "e7369866",
      "metadata": {
        "id": "e7369866"
      },
      "source": [
        "# Defaultdict in Python"
      ]
    },
    {
      "cell_type": "code",
      "execution_count": 20,
      "id": "9f932458",
      "metadata": {
        "id": "9f932458",
        "outputId": "b90f51b2-d515-4e0f-825c-7bba21c43ba9",
        "colab": {
          "base_uri": "https://localhost:8080/"
        }
      },
      "outputs": [
        {
          "output_type": "stream",
          "name": "stdout",
          "text": [
            "Dictionary:\n",
            "{1: 'one', 2: 'two', 3: 'three'}\n",
            "one\n"
          ]
        }
      ],
      "source": [
        "Dict = {1: 'one', 2: 'two', 3: 'three'}\n",
        "print(\"Dictionary:\")\n",
        "print(Dict)\n",
        "print(Dict[1])"
      ]
    },
    {
      "cell_type": "markdown",
      "id": "db56e53d",
      "metadata": {
        "id": "db56e53d"
      },
      "source": [
        "### EX1"
      ]
    },
    {
      "cell_type": "code",
      "execution_count": 22,
      "id": "17795683",
      "metadata": {
        "id": "17795683",
        "outputId": "a38b8eb1-d6d0-4342-f8cb-9d47efd2f5e6",
        "colab": {
          "base_uri": "https://localhost:8080/"
        }
      },
      "outputs": [
        {
          "output_type": "stream",
          "name": "stdout",
          "text": [
            "034567890\n",
            "031234432\n",
            "Not Present\n",
            "defaultdict(<function def_value at 0x7f7c1808e0d0>, {'john': '034567890', 'tom': '031234432', 'kane': 'Not Present'})\n"
          ]
        }
      ],
      "source": [
        "from collections import defaultdict\n",
        "\n",
        "# Function to return a default values for keys that is not present\n",
        "def def_value():\n",
        "    return \"Not Present\"\n",
        "\n",
        "# Defining the dict\n",
        "dict1 = defaultdict(def_value)\n",
        "dict1[\"john\"] = '034567890'\n",
        "dict1[\"tom\"] = '031234432'\n",
        "\n",
        "print(dict1[\"john\"])\n",
        "print(dict1[\"tom\"])\n",
        "print(dict1[\"kane\"])\n",
        "print(dict1)\n"
      ]
    },
    {
      "cell_type": "markdown",
      "id": "744876d5",
      "metadata": {
        "id": "744876d5"
      },
      "source": [
        "### EX2: __missing__"
      ]
    },
    {
      "cell_type": "code",
      "execution_count": 23,
      "id": "ff98f7cd",
      "metadata": {
        "id": "ff98f7cd",
        "outputId": "1820d6b9-aa36-4309-9f85-d07cee948db2",
        "colab": {
          "base_uri": "https://localhost:8080/"
        }
      },
      "outputs": [
        {
          "output_type": "stream",
          "name": "stdout",
          "text": [
            "Not Present\n",
            "Not Present\n",
            "defaultdict(<function <lambda> at 0x7f7c1808e700>, {'Cat': 'Not Present', 'Dog': 5, 'Bee': 'Not Present'})\n"
          ]
        }
      ],
      "source": [
        "from collections import defaultdict\n",
        "  \n",
        "      \n",
        "# Defining the dict\n",
        "dict1 = defaultdict(lambda: \"Not Present\")\n",
        "dict1[\"Cat\"] = 2\n",
        "dict1[\"Dog\"] = 5\n",
        "  \n",
        "# Provides the default value \n",
        "# for the key\n",
        "print(dict1.__missing__('Cat'))\n",
        "print(dict1.__missing__('Bee'))\n",
        "print(dict1)"
      ]
    },
    {
      "cell_type": "markdown",
      "id": "6d110fc7",
      "metadata": {
        "id": "6d110fc7"
      },
      "source": [
        "### EX3: Using int as Defaultdict"
      ]
    },
    {
      "cell_type": "code",
      "execution_count": 24,
      "id": "9223dd46",
      "metadata": {
        "id": "9223dd46",
        "outputId": "8cc4af0b-844e-4f40-ebf4-561c2a49e06e",
        "colab": {
          "base_uri": "https://localhost:8080/"
        }
      },
      "outputs": [
        {
          "output_type": "stream",
          "name": "stdout",
          "text": [
            "defaultdict(<class 'int'>, {1: 2, 2: 2, 3: 2, 4: 1})\n",
            "0\n",
            "defaultdict(<class 'int'>, {1: 2, 2: 2, 3: 2, 4: 1, 10: 0})\n"
          ]
        }
      ],
      "source": [
        "from collections import defaultdict\n",
        "\n",
        "# Defining the dict\n",
        "dict1 = defaultdict(int)\n",
        "L = [1, 2, 3, 4, 3, 2, 1]\n",
        "\n",
        "for i in L:\n",
        "    dict1[i] += 1\n",
        "\n",
        "print(dict1)\n",
        "print(dict1[10])\n",
        "print(dict1)"
      ]
    },
    {
      "cell_type": "markdown",
      "id": "1e577398",
      "metadata": {
        "id": "1e577398"
      },
      "source": [
        "### EX4: Using list as Defaultdict"
      ]
    },
    {
      "cell_type": "code",
      "execution_count": 26,
      "id": "3527351d",
      "metadata": {
        "id": "3527351d",
        "outputId": "8e2f7778-48d1-4a23-f088-e09bb5a0346d",
        "colab": {
          "base_uri": "https://localhost:8080/"
        }
      },
      "outputs": [
        {
          "output_type": "stream",
          "name": "stdout",
          "text": [
            "Dictionary with values as list:\n",
            "[]\n",
            "defaultdict(<class 'list'>, {0: [0], 1: [1], 2: [2], 3: [3], 4: [4], 10: []})\n"
          ]
        }
      ],
      "source": [
        "from collections import defaultdict\n",
        "\n",
        "# Defining a dict\n",
        "dict1 = defaultdict(list)\n",
        "\n",
        "for i in range(5):\n",
        "    dict1[i].append(i)\n",
        "\n",
        "print(\"Dictionary with values as list:\")\n",
        "print(dict1[10])\n",
        "print(dict1)\n"
      ]
    },
    {
      "cell_type": "markdown",
      "id": "24c2fa3b",
      "metadata": {
        "id": "24c2fa3b"
      },
      "source": [
        "# ChainMap"
      ]
    },
    {
      "cell_type": "code",
      "execution_count": 27,
      "id": "b8ffe9a3",
      "metadata": {
        "scrolled": true,
        "id": "b8ffe9a3",
        "outputId": "bb363b5c-2046-4292-d1bc-07cbd3c6577d",
        "colab": {
          "base_uri": "https://localhost:8080/"
        }
      },
      "outputs": [
        {
          "output_type": "stream",
          "name": "stdout",
          "text": [
            "ChainMap({'a': 1, 'b': 2}, {'c': 3, 'd': 4}, {'e': 5, 'f': 6})\n"
          ]
        }
      ],
      "source": [
        "from collections import ChainMap\n",
        "\n",
        "dict1 = {'a': 1, 'b': 2}\n",
        "dict2 = {'c': 3, 'd': 4}\n",
        "dict3 = {'e': 5, 'f': 6}\n",
        "\n",
        "# Defining the chainmap\n",
        "chain_map = ChainMap(dict1, dict2, dict3)\n",
        "\n",
        "print(chain_map)"
      ]
    },
    {
      "cell_type": "markdown",
      "id": "24a42a56",
      "metadata": {
        "id": "24a42a56"
      },
      "source": [
        "### EX1: Accessing Keys and Values from ChainMap\n"
      ]
    },
    {
      "cell_type": "code",
      "execution_count": 28,
      "id": "d5682d57",
      "metadata": {
        "id": "d5682d57",
        "outputId": "a44c7a23-60a5-4433-dd10-11be144efa5e",
        "colab": {
          "base_uri": "https://localhost:8080/"
        }
      },
      "outputs": [
        {
          "output_type": "stream",
          "name": "stdout",
          "text": [
            "[{'a': 1, 'b': 2}, {'b': 3, 'd': 4}, {'e': 5, 'b': 6}]\n"
          ]
        }
      ],
      "source": [
        "from collections import ChainMap\n",
        "\n",
        "d1 = {'a': 1, 'b': 2}\n",
        "d2 = {'b': 3, 'd': 4}\n",
        "d3 = {'e': 5, 'b': 6}\n",
        "\n",
        "# Defining the chainmap\n",
        "c = ChainMap(d1, d2, d3)\n",
        "print(c.maps)"
      ]
    },
    {
      "cell_type": "code",
      "execution_count": 29,
      "id": "6e0c6d76",
      "metadata": {
        "id": "6e0c6d76",
        "outputId": "a21f7475-73fa-44a7-fa4f-bded5dfc0a56",
        "colab": {
          "base_uri": "https://localhost:8080/"
        }
      },
      "outputs": [
        {
          "output_type": "stream",
          "name": "stdout",
          "text": [
            "2\n"
          ]
        }
      ],
      "source": [
        "# Accessing Values using key name\n",
        "print(c['b'])"
      ]
    },
    {
      "cell_type": "code",
      "execution_count": 30,
      "id": "f9ed4312",
      "metadata": {
        "id": "f9ed4312",
        "outputId": "460388ce-35d5-4310-a87e-769f4fd503f2",
        "colab": {
          "base_uri": "https://localhost:8080/"
        }
      },
      "outputs": [
        {
          "output_type": "stream",
          "name": "stdout",
          "text": [
            "[5, 2, 4, 1]\n"
          ]
        }
      ],
      "source": [
        "# Accesing values using values() method\n",
        "print(list(c.values()))"
      ]
    },
    {
      "cell_type": "code",
      "execution_count": 31,
      "id": "fc8e0d85",
      "metadata": {
        "id": "fc8e0d85",
        "outputId": "5aee655d-c184-4b2f-cd65-238309274e4f",
        "colab": {
          "base_uri": "https://localhost:8080/"
        }
      },
      "outputs": [
        {
          "output_type": "stream",
          "name": "stdout",
          "text": [
            "['e', 'b', 'd', 'a']\n"
          ]
        }
      ],
      "source": [
        "# Accessing keys using keys()method\n",
        "print(list(c.keys()))"
      ]
    },
    {
      "cell_type": "code",
      "execution_count": 32,
      "id": "b09ae419",
      "metadata": {
        "scrolled": true,
        "id": "b09ae419",
        "outputId": "ecfe034b-f157-43bd-f71e-3b6f2955694b",
        "colab": {
          "base_uri": "https://localhost:8080/"
        }
      },
      "outputs": [
        {
          "output_type": "stream",
          "name": "stdout",
          "text": [
            "[{'a': 1, 'b': 2}, {'b': 3, 'd': 4}, {'e': 5, 'b': 6}]\n",
            "<class 'list'>\n"
          ]
        }
      ],
      "source": [
        "#pop()\n",
        "from collections import ChainMap\n",
        "\n",
        "d1 = {'a': 1, 'b': 2}\n",
        "d2 = {'b': 3, 'd': 4}\n",
        "d3 = {'e': 5, 'b': 6}\n",
        "\n",
        "# Defining the chainmap\n",
        "c = ChainMap(d1, d2, d3)\n",
        "print(c.maps)\n",
        "print(type(c.maps))"
      ]
    },
    {
      "cell_type": "code",
      "execution_count": 33,
      "id": "c08aa3d7",
      "metadata": {
        "id": "c08aa3d7",
        "outputId": "4b375d62-add6-41f0-a672-2367c6454161",
        "colab": {
          "base_uri": "https://localhost:8080/"
        }
      },
      "outputs": [
        {
          "output_type": "stream",
          "name": "stdout",
          "text": [
            "2\n",
            "ChainMap({'a': 1}, {'b': 3, 'd': 4}, {'e': 5, 'b': 6})\n"
          ]
        }
      ],
      "source": [
        "print(c.pop('b', 'error'))\n",
        "print(c)"
      ]
    },
    {
      "cell_type": "code",
      "execution_count": 34,
      "id": "38074c4f",
      "metadata": {
        "id": "38074c4f",
        "outputId": "dac12d96-ded7-4465-f722-5135fb22955d",
        "colab": {
          "base_uri": "https://localhost:8080/"
        }
      },
      "outputs": [
        {
          "output_type": "stream",
          "name": "stdout",
          "text": [
            "error\n",
            "ChainMap({'a': 1}, {'b': 3, 'd': 4}, {'e': 5, 'b': 6})\n"
          ]
        }
      ],
      "source": [
        "print(c.pop('d', 'error'))\n",
        "print(c)"
      ]
    },
    {
      "cell_type": "code",
      "execution_count": 35,
      "id": "7ec6473e",
      "metadata": {
        "id": "7ec6473e",
        "outputId": "05c94f93-5cab-44a5-f371-e2e1f9baf1da",
        "colab": {
          "base_uri": "https://localhost:8080/"
        }
      },
      "outputs": [
        {
          "output_type": "stream",
          "name": "stdout",
          "text": [
            "('a', 1)\n",
            "ChainMap({}, {'b': 3, 'd': 4}, {'e': 5, 'b': 6})\n"
          ]
        }
      ],
      "source": [
        "print(c.popitem())\n",
        "print(c)"
      ]
    },
    {
      "cell_type": "code",
      "execution_count": 36,
      "id": "03484ac4",
      "metadata": {
        "id": "03484ac4",
        "outputId": "328f802e-9a72-4efd-fe11-5bccaf5255eb",
        "colab": {
          "base_uri": "https://localhost:8080/"
        }
      },
      "outputs": [
        {
          "output_type": "stream",
          "name": "stdout",
          "text": [
            "ChainMap({}, {'b': 3, 'd': 4}, {'e': 5, 'b': 6})\n",
            "None\n",
            "ChainMap({}, {'b': 3, 'd': 4}, {'e': 5, 'b': 6})\n"
          ]
        }
      ],
      "source": [
        "print(c)\n",
        "print(c.clear())\n",
        "print(c)"
      ]
    },
    {
      "cell_type": "code",
      "execution_count": 36,
      "id": "87d48b01",
      "metadata": {
        "id": "87d48b01"
      },
      "outputs": [],
      "source": []
    },
    {
      "cell_type": "markdown",
      "id": "ad63879c",
      "metadata": {
        "id": "ad63879c"
      },
      "source": [
        "### EX2: new_child()"
      ]
    },
    {
      "cell_type": "code",
      "execution_count": 37,
      "id": "c8e59560",
      "metadata": {
        "id": "c8e59560",
        "outputId": "4c2878ae-84ab-4561-c51f-463737bb80e2",
        "colab": {
          "base_uri": "https://localhost:8080/"
        }
      },
      "outputs": [
        {
          "output_type": "stream",
          "name": "stdout",
          "text": [
            "All the ChainMap contents are : \n",
            "ChainMap({'a': 1, 'b': 2}, {'b': 3, 'c': 4})\n"
          ]
        }
      ],
      "source": [
        "# Python code to demonstrate ChainMap and new_child()\n",
        "import collections\n",
        "\n",
        "# initializing dictionaries\n",
        "dic1 = { 'a' : 1, 'b' : 2 }\n",
        "dic2 = { 'b' : 3, 'c' : 4 }\n",
        "dic3 = { 'd' : 5, 'f': 10 }\n",
        "\n",
        "# initializing ChainMap\n",
        "chain = collections.ChainMap(dic1, dic2)\n",
        "\n",
        "# printing chainMap\n",
        "print (\"All the ChainMap contents are : \")\n",
        "print (chain)"
      ]
    },
    {
      "cell_type": "code",
      "execution_count": 38,
      "id": "0bfbd698",
      "metadata": {
        "id": "0bfbd698",
        "outputId": "e2da51c5-fba2-45d8-eab5-c50bcef26146",
        "colab": {
          "base_uri": "https://localhost:8080/"
        }
      },
      "outputs": [
        {
          "output_type": "stream",
          "name": "stdout",
          "text": [
            "Displaying new ChainMap : \n",
            "ChainMap({'d': 5, 'f': 10}, {'a': 1, 'b': 2}, {'b': 3, 'c': 4})\n"
          ]
        }
      ],
      "source": [
        "# using new_child() to add new dictionary\n",
        "chain1 = chain.new_child(dic3)\n",
        "\n",
        "# printing chainMap\n",
        "print (\"Displaying new ChainMap : \")\n",
        "print (chain1)"
      ]
    },
    {
      "cell_type": "markdown",
      "id": "c19ce484",
      "metadata": {
        "id": "c19ce484"
      },
      "source": [
        "# NamedTuple"
      ]
    },
    {
      "cell_type": "code",
      "execution_count": 39,
      "id": "734de35f",
      "metadata": {
        "id": "734de35f",
        "outputId": "958873a0-5294-4efc-cb24-11135702ea6f",
        "colab": {
          "base_uri": "https://localhost:8080/"
        }
      },
      "outputs": [
        {
          "output_type": "stream",
          "name": "stdout",
          "text": [
            "Teacher(name='Minh Thu', age='24', DOB='22101997')\n"
          ]
        }
      ],
      "source": [
        "from collections import namedtuple\n",
        "\n",
        "# Declaring namedtuple()\n",
        "teacher = namedtuple('Teacher',['name','age','DOB'])\n",
        "\n",
        "# Adding values\n",
        "teacher1 = teacher('Minh Thu','24','22101997')\n",
        "print(teacher1)"
      ]
    },
    {
      "cell_type": "code",
      "execution_count": 40,
      "id": "fc0d50e2",
      "metadata": {
        "id": "fc0d50e2",
        "outputId": "af00a04d-096a-43e0-8c3d-f2817dc89726",
        "colab": {
          "base_uri": "https://localhost:8080/"
        }
      },
      "outputs": [
        {
          "output_type": "stream",
          "name": "stdout",
          "text": [
            "The Teacher age using index is : 24\n"
          ]
        }
      ],
      "source": [
        "# Access using index\n",
        "print (\"The Teacher age using index is : \",end =\"\")\n",
        "print (teacher1[1])"
      ]
    },
    {
      "cell_type": "code",
      "execution_count": 41,
      "id": "6e81a647",
      "metadata": {
        "id": "6e81a647",
        "outputId": "4f7293f0-0fc1-4edc-8ff3-3d6cd676c39e",
        "colab": {
          "base_uri": "https://localhost:8080/"
        }
      },
      "outputs": [
        {
          "output_type": "stream",
          "name": "stdout",
          "text": [
            "The Teacher name using keyname is : Minh Thu\n"
          ]
        }
      ],
      "source": [
        "# Access using name\n",
        "print (\"The Teacher name using keyname is : \",end =\"\")\n",
        "print (teacher1.name)"
      ]
    },
    {
      "cell_type": "markdown",
      "id": "36e0608d",
      "metadata": {
        "id": "36e0608d"
      },
      "source": [
        "Fields are immtuable:"
      ]
    },
    {
      "cell_type": "code",
      "execution_count": 46,
      "id": "6816cc64",
      "metadata": {
        "id": "6816cc64",
        "outputId": "5fc64b4c-9c4c-4f25-e788-40d1e68ff394",
        "colab": {
          "base_uri": "https://localhost:8080/"
        }
      },
      "outputs": [
        {
          "output_type": "stream",
          "name": "stdout",
          "text": [
            "Teacher(name='Mai', age='24', DOB='411997')\n"
          ]
        }
      ],
      "source": [
        "# initializing iterable \n",
        "teacher2 = ['Mai', '24', '411997' ]\n",
        "# using _make() to return namedtuple()\n",
        "print (teacher._make(teacher2))"
      ]
    },
    {
      "cell_type": "markdown",
      "id": "8f0c26f1",
      "metadata": {
        "id": "8f0c26f1"
      },
      "source": [
        "# Deque"
      ]
    },
    {
      "cell_type": "code",
      "execution_count": 48,
      "id": "20b5d170",
      "metadata": {
        "id": "20b5d170",
        "outputId": "dc774c38-047c-4baa-81ff-8469c2ac4042",
        "colab": {
          "base_uri": "https://localhost:8080/"
        }
      },
      "outputs": [
        {
          "output_type": "stream",
          "name": "stdout",
          "text": [
            "deque([1, 2, 3])\n"
          ]
        }
      ],
      "source": [
        "from collections import deque\n",
        "\n",
        "# initializing deque\n",
        "de = deque([1,2,3])\n",
        "print(de)"
      ]
    },
    {
      "cell_type": "code",
      "execution_count": 49,
      "id": "f279988b",
      "metadata": {
        "id": "f279988b",
        "outputId": "d90e87d9-33ba-470c-e94f-b6ad3bd83aa2",
        "colab": {
          "base_uri": "https://localhost:8080/"
        }
      },
      "outputs": [
        {
          "output_type": "stream",
          "name": "stdout",
          "text": [
            "The deque after appending at right is : \n",
            "deque([1, 2, 3, 4])\n"
          ]
        }
      ],
      "source": [
        "de.append(4)\n",
        "print(\"The deque after appending at right is : \")\n",
        "print(de)"
      ]
    },
    {
      "cell_type": "code",
      "execution_count": 50,
      "id": "ffded43f",
      "metadata": {
        "id": "ffded43f",
        "outputId": "063f550b-e6f6-4c7c-b9ce-f2c4bd85719f",
        "colab": {
          "base_uri": "https://localhost:8080/"
        }
      },
      "outputs": [
        {
          "output_type": "stream",
          "name": "stdout",
          "text": [
            "The deque after appending at left is : \n",
            "deque([6, 1, 2, 3, 4])\n"
          ]
        }
      ],
      "source": [
        "de.appendleft(6)\n",
        "print(\"The deque after appending at left is : \")\n",
        "print(de)\n"
      ]
    },
    {
      "cell_type": "code",
      "execution_count": 51,
      "id": "f14f9f42",
      "metadata": {
        "id": "f14f9f42",
        "outputId": "8570e009-237c-43f3-8f26-010102bd5369",
        "colab": {
          "base_uri": "https://localhost:8080/"
        }
      },
      "outputs": [
        {
          "output_type": "stream",
          "name": "stdout",
          "text": [
            "deque([6, 1, 2, 3])\n"
          ]
        }
      ],
      "source": [
        "de.pop()\n",
        "print(de)"
      ]
    },
    {
      "cell_type": "code",
      "execution_count": 52,
      "id": "8967cca6",
      "metadata": {
        "id": "8967cca6",
        "outputId": "fa4d0c35-8d0f-4aee-a1a4-972a70d624a9",
        "colab": {
          "base_uri": "https://localhost:8080/"
        }
      },
      "outputs": [
        {
          "output_type": "stream",
          "name": "stdout",
          "text": [
            "deque([1, 2, 3])\n"
          ]
        }
      ],
      "source": [
        "de.popleft()\n",
        "print(de)"
      ]
    },
    {
      "cell_type": "code",
      "execution_count": 53,
      "id": "fc6d9b8c",
      "metadata": {
        "id": "fc6d9b8c",
        "outputId": "6fa8ac27-6f6e-42bf-a1f3-a6eea51c30c6",
        "colab": {
          "base_uri": "https://localhost:8080/"
        }
      },
      "outputs": [
        {
          "output_type": "stream",
          "name": "stdout",
          "text": [
            "The number 4 first occurs at a position : \n",
            "3\n"
          ]
        }
      ],
      "source": [
        "import collections\n",
        "\n",
        "de = collections.deque([1, 2, 3, 4, 5, 4, 6, 2])\n",
        "  \n",
        "print (\"The number 4 first occurs at a position : \")\n",
        "print (de.index(4))"
      ]
    },
    {
      "cell_type": "code",
      "execution_count": 54,
      "id": "afc21074",
      "metadata": {
        "id": "afc21074",
        "outputId": "3a00ae55-4aa5-48ef-f2d5-f25b31962b83",
        "colab": {
          "base_uri": "https://localhost:8080/"
        }
      },
      "outputs": [
        {
          "output_type": "stream",
          "name": "stdout",
          "text": [
            "5\n"
          ]
        }
      ],
      "source": [
        "print (de.index(4, 4, 8))"
      ]
    },
    {
      "cell_type": "code",
      "execution_count": 56,
      "id": "48eefda4",
      "metadata": {
        "id": "48eefda4",
        "outputId": "9f5f90d8-f1b6-4a8e-f644-7a51d2a9fdee",
        "colab": {
          "base_uri": "https://localhost:8080/"
        }
      },
      "outputs": [
        {
          "output_type": "stream",
          "name": "stdout",
          "text": [
            "deque([1, 2, 3, 4, 5, 4, 6, 2])\n",
            "deque([1, 2, 3, 4, 3, 5, 4, 6, 2])\n"
          ]
        }
      ],
      "source": [
        "# using insert() to insert the value 3 at 5th position\n",
        "print(de)\n",
        "\n",
        "de.insert(4,3)\n",
        "print(de)"
      ]
    },
    {
      "cell_type": "code",
      "execution_count": 57,
      "id": "f36e2b04",
      "metadata": {
        "id": "f36e2b04",
        "outputId": "ec31916a-5476-4ae2-edc4-3e54b9455570",
        "colab": {
          "base_uri": "https://localhost:8080/"
        }
      },
      "outputs": [
        {
          "output_type": "stream",
          "name": "stdout",
          "text": [
            "deque([1, 2, 3, 4, 3, 5, 4, 6, 2, 3])\n"
          ]
        }
      ],
      "source": [
        "de.insert(110,3)\n",
        "print(de)"
      ]
    },
    {
      "cell_type": "code",
      "execution_count": 58,
      "id": "f16e6ffe",
      "metadata": {
        "id": "f16e6ffe",
        "outputId": "2a015fac-8b48-4870-a80c-2226678d7f96",
        "colab": {
          "base_uri": "https://localhost:8080/"
        }
      },
      "outputs": [
        {
          "output_type": "stream",
          "name": "stdout",
          "text": [
            "deque([1, 2, 3, 4, 3, 5, 4, 6, 2, 3])\n",
            "The count of 3 in deque is : \n",
            "3\n"
          ]
        }
      ],
      "source": [
        "# using count() to count the occurrences of 3\n",
        "print(de)\n",
        "print(\"The count of 3 in deque is : \")\n",
        "print(de.count(3))"
      ]
    },
    {
      "cell_type": "code",
      "execution_count": 59,
      "id": "d426a7ef",
      "metadata": {
        "id": "d426a7ef",
        "outputId": "8c6442b0-5419-47e5-d362-a251879b8ea2",
        "colab": {
          "base_uri": "https://localhost:8080/"
        }
      },
      "outputs": [
        {
          "output_type": "execute_result",
          "data": {
            "text/plain": [
              "0"
            ]
          },
          "metadata": {},
          "execution_count": 59
        }
      ],
      "source": [
        "de.count(100)"
      ]
    },
    {
      "cell_type": "code",
      "execution_count": 60,
      "id": "241a421b",
      "metadata": {
        "id": "241a421b",
        "outputId": "01c4191c-a6a4-4826-ef35-ad9f36f1b186",
        "colab": {
          "base_uri": "https://localhost:8080/"
        }
      },
      "outputs": [
        {
          "output_type": "stream",
          "name": "stdout",
          "text": [
            "deque([1, 2, 3, 4, 3, 5, 4, 6, 2, 3])\n",
            "deque([1, 2, 4, 3, 5, 4, 6, 2, 3])\n"
          ]
        }
      ],
      "source": [
        "print(de)\n",
        "# using remove() to remove the first occurrence of 3\n",
        "de.remove(3)\n",
        "print(de)"
      ]
    },
    {
      "cell_type": "code",
      "execution_count": 61,
      "id": "6a0e10b0",
      "metadata": {
        "id": "6a0e10b0",
        "outputId": "e1602106-13a8-4d22-8db8-52c0b033e14a",
        "colab": {
          "base_uri": "https://localhost:8080/"
        }
      },
      "outputs": [
        {
          "output_type": "stream",
          "name": "stdout",
          "text": [
            "deque([1, 2, 3])\n",
            "deque([1, 2, 3, 4, 5, 6])\n"
          ]
        }
      ],
      "source": [
        "import collections\n",
        "  \n",
        "de = collections.deque([1, 2, 3])\n",
        "print(de)\n",
        "  \n",
        "# using extend() to add numbers to right end adds 4,5,6 to right end\n",
        "de.extend([4,5,6])\n",
        "print(de)"
      ]
    },
    {
      "cell_type": "code",
      "execution_count": 62,
      "id": "a549db4e",
      "metadata": {
        "id": "a549db4e",
        "outputId": "48f5a959-a802-44d7-c81f-cc11a29ae1a4",
        "colab": {
          "base_uri": "https://localhost:8080/"
        }
      },
      "outputs": [
        {
          "output_type": "stream",
          "name": "stdout",
          "text": [
            "deque([9, 8, 7, 1, 2, 3, 4, 5, 6])\n"
          ]
        }
      ],
      "source": [
        "# using extendleft() to add numbers to left end  adds 7,8,9 to right end\n",
        "de.extendleft([7,8,9])\n",
        "print(de)"
      ]
    },
    {
      "cell_type": "code",
      "execution_count": 63,
      "id": "e9cad89d",
      "metadata": {
        "id": "e9cad89d",
        "outputId": "ed1842e4-5f32-4506-f8b6-b8101f82d2ad",
        "colab": {
          "base_uri": "https://localhost:8080/"
        }
      },
      "outputs": [
        {
          "output_type": "stream",
          "name": "stdout",
          "text": [
            "deque([1, 2, 3, 4, 5])\n",
            "deque([5, 1, 2, 3, 4])\n"
          ]
        }
      ],
      "source": [
        "#rotate\n",
        "import collections\n",
        "d = collections.deque([1, 2, 3, 4, 5])\n",
        "print(d)\n",
        "\n",
        "d.rotate(1)\n",
        "print(d)"
      ]
    },
    {
      "cell_type": "code",
      "execution_count": 64,
      "id": "c26e3197",
      "metadata": {
        "id": "c26e3197",
        "outputId": "55ef8604-416d-428d-ab94-44324eda8cd2",
        "colab": {
          "base_uri": "https://localhost:8080/"
        }
      },
      "outputs": [
        {
          "output_type": "stream",
          "name": "stdout",
          "text": [
            "deque([1, 2, 3, 4, 5])\n"
          ]
        }
      ],
      "source": [
        "d.rotate(-1)\n",
        "print(d)"
      ]
    },
    {
      "cell_type": "code",
      "execution_count": 65,
      "id": "e0402307",
      "metadata": {
        "id": "e0402307",
        "outputId": "f570f2e4-c033-4cf1-aef2-056d01101694",
        "colab": {
          "base_uri": "https://localhost:8080/"
        }
      },
      "outputs": [
        {
          "output_type": "stream",
          "name": "stdout",
          "text": [
            "deque([1, 2, 3, 4, 5])\n",
            "deque([5, 1, 2, 3, 4])\n"
          ]
        }
      ],
      "source": [
        "print(d)\n",
        "\n",
        "d.appendleft(d.pop())\n",
        "print(d)"
      ]
    },
    {
      "cell_type": "code",
      "execution_count": 66,
      "id": "1c9ff3eb",
      "metadata": {
        "id": "1c9ff3eb",
        "outputId": "9508cfd1-c9fe-4f22-865e-18aa68969ff8",
        "colab": {
          "base_uri": "https://localhost:8080/"
        }
      },
      "outputs": [
        {
          "output_type": "stream",
          "name": "stdout",
          "text": [
            "deque([1, 2, 3, 4, 5])\n",
            "deque([3, 4, 5, 1, 2])\n"
          ]
        }
      ],
      "source": [
        "d = collections.deque([1, 2, 3, 4, 5])\n",
        "print(d)\n",
        "\n",
        "d.rotate(3)\n",
        "print(d)"
      ]
    },
    {
      "cell_type": "code",
      "execution_count": 67,
      "id": "faa30589",
      "metadata": {
        "id": "faa30589",
        "outputId": "6ab466cc-e429-4fab-b755-56a1aff50ee2",
        "colab": {
          "base_uri": "https://localhost:8080/"
        }
      },
      "outputs": [
        {
          "output_type": "stream",
          "name": "stdout",
          "text": [
            "deque([1, 2, 3, 4, 5])\n",
            "deque([5, 1, 2, 3, 4])\n"
          ]
        }
      ],
      "source": [
        "d = collections.deque([1, 2, 3, 4, 5])\n",
        "print(d)\n",
        "\n",
        "d.rotate(-4)\n",
        "print(d)"
      ]
    },
    {
      "cell_type": "code",
      "execution_count": 68,
      "id": "a6563488",
      "metadata": {
        "id": "a6563488",
        "outputId": "976a0e0d-2ebc-4f33-ea3d-a8ae02b8dccb",
        "colab": {
          "base_uri": "https://localhost:8080/"
        }
      },
      "outputs": [
        {
          "output_type": "stream",
          "name": "stdout",
          "text": [
            "deque([1, 2, 3, 4, 5])\n",
            "deque([5, 4, 3, 2, 1])\n"
          ]
        }
      ],
      "source": [
        "#reverse\n",
        "d = collections.deque([1, 2, 3, 4, 5])\n",
        "print(d)\n",
        "\n",
        "d.reverse()\n",
        "print(d)"
      ]
    },
    {
      "cell_type": "markdown",
      "id": "1ae05350",
      "metadata": {
        "id": "1ae05350"
      },
      "source": [
        "# User Dict"
      ]
    },
    {
      "cell_type": "code",
      "execution_count": 70,
      "id": "b625e198",
      "metadata": {
        "id": "b625e198",
        "outputId": "48d2a911-3546-4450-c5c1-a08ec587a492",
        "colab": {
          "base_uri": "https://localhost:8080/"
        }
      },
      "outputs": [
        {
          "output_type": "stream",
          "name": "stdout",
          "text": [
            "{'a': 1, 'b': 2, 'c': 3}\n"
          ]
        }
      ],
      "source": [
        "from collections import UserDict\n",
        "\n",
        "u_dict = {'a':1,\n",
        "    'b': 2,\n",
        "    'c': 3}\n",
        "\n",
        "# Creating an UserDict\n",
        "userD = UserDict(u_dict)\n",
        "print(userD)"
      ]
    },
    {
      "cell_type": "code",
      "execution_count": 71,
      "id": "67d7b37e",
      "metadata": {
        "id": "67d7b37e",
        "outputId": "cf870312-df53-439c-f0db-c67e263994a5",
        "colab": {
          "base_uri": "https://localhost:8080/"
        }
      },
      "outputs": [
        {
          "output_type": "stream",
          "name": "stdout",
          "text": [
            "{}\n"
          ]
        }
      ],
      "source": [
        "# Creating an empty UserDict\n",
        "userD = UserDict()\n",
        "print(userD.data)"
      ]
    },
    {
      "cell_type": "code",
      "execution_count": 75,
      "id": "492c6f0e",
      "metadata": {
        "id": "492c6f0e",
        "outputId": "59e978cf-adcb-40b4-fda1-d5ed9325ff24",
        "colab": {
          "base_uri": "https://localhost:8080/"
        }
      },
      "outputs": [
        {
          "output_type": "stream",
          "name": "stdout",
          "text": [
            "Original Dictionary\n",
            "{'a': 1, 'b': 2, 'c': 3}\n"
          ]
        }
      ],
      "source": [
        "from collections import UserDict\n",
        "\n",
        "# deletion is not allowed\n",
        "class MyDict(UserDict):\n",
        "    # Function to stop deletion from dictionary\n",
        "    def __del__(self):\n",
        "        raise RuntimeError(\"Deletion not allowed\")\n",
        "\n",
        "    # Function to stop pop from dictionary\n",
        "    def pop(self, s = None):\n",
        "        raise RuntimeError(\"Deletion not allowed\")\n",
        "\n",
        "    # Function to stop popitem from Dictionary\n",
        "    def popitem(self, s = None):\n",
        "        raise RuntimeError(\"Deletion not allowed\")\n",
        "\n",
        "# Driver's code\n",
        "d = MyDict({'a':1,\n",
        "    'b': 2,\n",
        "    'c': 3})\n",
        "\n",
        "print(\"Original Dictionary\")\n",
        "print(d)\n",
        "\n"
      ]
    },
    {
      "cell_type": "markdown",
      "id": "d11c0b12",
      "metadata": {
        "id": "d11c0b12"
      },
      "source": [
        "# UserList"
      ]
    },
    {
      "cell_type": "code",
      "execution_count": 76,
      "id": "6feaf809",
      "metadata": {
        "id": "6feaf809",
        "outputId": "79eed095-8bd6-42a9-a5be-227628a9df2f",
        "colab": {
          "base_uri": "https://localhost:8080/"
        }
      },
      "outputs": [
        {
          "output_type": "stream",
          "name": "stdout",
          "text": [
            "[1, 2, 3, 4, 5]\n"
          ]
        }
      ],
      "source": [
        "from collections import UserList \n",
        " \n",
        "lst = [1,2,3,4,5]\n",
        "  \n",
        "user_list = UserList(lst) \n",
        "print(user_list) "
      ]
    },
    {
      "cell_type": "code",
      "execution_count": 77,
      "id": "0f4ee684",
      "metadata": {
        "id": "0f4ee684",
        "outputId": "6471fadf-4bc2-42ec-d0d8-837cfe8d0384",
        "colab": {
          "base_uri": "https://localhost:8080/"
        }
      },
      "outputs": [
        {
          "output_type": "stream",
          "name": "stdout",
          "text": [
            "[]\n"
          ]
        }
      ],
      "source": [
        "user_list = UserList() \n",
        "print(user_list) "
      ]
    },
    {
      "cell_type": "code",
      "execution_count": 80,
      "id": "656db703",
      "metadata": {
        "id": "656db703",
        "outputId": "220d6dd7-672c-4792-b2f9-0b0c3f8290e8",
        "colab": {
          "base_uri": "https://localhost:8080/"
        }
      },
      "outputs": [
        {
          "output_type": "stream",
          "name": "stdout",
          "text": [
            "Original List\n",
            "[1, 2, 3, 4]\n",
            "After Insertion\n",
            "[1, 2, 3, 4, 5]\n"
          ]
        }
      ],
      "source": [
        "# Python program to demonstrate userlist\n",
        "from collections import UserList\n",
        "\n",
        "# Creating a List where deletion is not allowed\n",
        "class MyList(UserList):\n",
        "    \n",
        "    # Function to stop deletion from List\n",
        "    def remove(self, s = None):\n",
        "        raise RuntimeError(\"Deletion not allowed\")\n",
        "\n",
        "    # Function to stop pop from List\n",
        "    def pop(self, s = None):\n",
        "        raise RuntimeError(\"Deletion not allowed\")\n",
        "        \n",
        "# Driver's code\n",
        "L = MyList([1, 2, 3, 4])\n",
        "\n",
        "print(\"Original List\")\n",
        "print(L)\n",
        "# Inserting to List\n",
        "L.append(5)\n",
        "print(\"After Insertion\")\n",
        "print(L)\n",
        "\n",
        "# Deleting From List\n",
        "\n"
      ]
    },
    {
      "cell_type": "code",
      "execution_count": 81,
      "id": "731fda74",
      "metadata": {
        "id": "731fda74"
      },
      "outputs": [],
      "source": [
        "# User String"
      ]
    },
    {
      "cell_type": "code",
      "execution_count": 82,
      "id": "a32e202b",
      "metadata": {
        "id": "a32e202b",
        "outputId": "133b2877-3bcb-407d-a2bb-4aa3c9993d22",
        "colab": {
          "base_uri": "https://localhost:8080/"
        }
      },
      "outputs": [
        {
          "output_type": "stream",
          "name": "stdout",
          "text": [
            "Goodbye\n"
          ]
        },
        {
          "output_type": "stream",
          "name": "stderr",
          "text": [
            "Exception ignored in: <function MyDict.__del__ at 0x7f7c1802f8b0>\n",
            "Traceback (most recent call last):\n",
            "  File \"<ipython-input-75-ec5898191d2a>\", line 7, in __del__\n",
            "RuntimeError: Deletion not allowed\n"
          ]
        }
      ],
      "source": [
        "# Python program to demonstrate userstring\n",
        "from collections import UserString\n",
        "\n",
        "d = 'Goodbye'\n",
        "\n",
        "# Creating an UserDict\n",
        "userS = UserString(d)\n",
        "print(userS.data)"
      ]
    },
    {
      "cell_type": "code",
      "execution_count": 83,
      "id": "2a3893c0",
      "metadata": {
        "id": "2a3893c0",
        "outputId": "6d55ce5c-ea5a-4b54-fe9f-c5ff2f0beec1",
        "colab": {
          "base_uri": "https://localhost:8080/"
        }
      },
      "outputs": [
        {
          "output_type": "stream",
          "name": "stdout",
          "text": [
            "\n"
          ]
        }
      ],
      "source": [
        "# Creating an empty UserDict\n",
        "userS = UserString(\"\")\n",
        "print(userS.data)"
      ]
    },
    {
      "cell_type": "code",
      "execution_count": 84,
      "id": "f473033a",
      "metadata": {
        "id": "f473033a",
        "outputId": "a8ec1683-e6d2-4b4c-b7fb-6859822bfd13",
        "colab": {
          "base_uri": "https://localhost:8080/"
        }
      },
      "outputs": [
        {
          "output_type": "stream",
          "name": "stdout",
          "text": [
            "Original String: Geeks\n",
            "String After Appending: Geeksmeow\n",
            "String after Removing: meow\n"
          ]
        }
      ],
      "source": [
        "# Python program to demonstrate userstring\n",
        "from collections import UserString\n",
        "\n",
        "# Creating a Mutable String\n",
        "class Mystring(UserString):\n",
        "\n",
        "    # Function to append to string\n",
        "    def append(self, s):\n",
        "        self.data += s\n",
        "\n",
        "    # Function to remove from string\n",
        "    def remove(self, s):\n",
        "        self.data = self.data.replace(s, \"\")\n",
        "\n",
        "# Driver's code\n",
        "s1 = Mystring(\"Geeks\")\n",
        "print(\"Original String:\", s1.data)\n",
        "\n",
        "# Appending to string\n",
        "s1.append(\"meow\")\n",
        "print(\"String After Appending:\", s1.data)\n",
        "\n",
        "# Removing from string\n",
        "s1.remove(\"Geeks\")\n",
        "print(\"String after Removing:\", s1.data)\n"
      ]
    },
    {
      "cell_type": "code",
      "execution_count": 85,
      "id": "950dde9b",
      "metadata": {
        "id": "950dde9b",
        "outputId": "38432ba0-1329-4e23-d255-107cdec4967f",
        "colab": {
          "base_uri": "https://localhost:8080/"
        }
      },
      "outputs": [
        {
          "output_type": "execute_result",
          "data": {
            "text/plain": [
              "'MEOW'"
            ]
          },
          "metadata": {},
          "execution_count": 85
        }
      ],
      "source": [
        "s1.upper()"
      ]
    },
    {
      "cell_type": "code",
      "execution_count": 86,
      "id": "b27fffac",
      "metadata": {
        "id": "b27fffac",
        "outputId": "66ba329d-9237-4bac-95c0-26502e114126",
        "colab": {
          "base_uri": "https://localhost:8080/"
        }
      },
      "outputs": [
        {
          "output_type": "execute_result",
          "data": {
            "text/plain": [
              "'meowmeowmeow'"
            ]
          },
          "metadata": {},
          "execution_count": 86
        }
      ],
      "source": [
        "s1*3"
      ]
    },
    {
      "cell_type": "code",
      "execution_count": 87,
      "id": "a65573a2",
      "metadata": {
        "id": "a65573a2",
        "outputId": "580156f6-aefb-48ed-b10e-49a61114e8ea",
        "colab": {
          "base_uri": "https://localhost:8080/"
        }
      },
      "outputs": [
        {
          "output_type": "execute_result",
          "data": {
            "text/plain": [
              "1"
            ]
          },
          "metadata": {},
          "execution_count": 87
        }
      ],
      "source": [
        "s1.count('o')"
      ]
    },
    {
      "cell_type": "code",
      "execution_count": null,
      "id": "d77c6ba6",
      "metadata": {
        "id": "d77c6ba6"
      },
      "outputs": [],
      "source": []
    }
  ],
  "metadata": {
    "kernelspec": {
      "display_name": "Python 3",
      "language": "python",
      "name": "python3"
    },
    "language_info": {
      "codemirror_mode": {
        "name": "ipython",
        "version": 3
      },
      "file_extension": ".py",
      "mimetype": "text/x-python",
      "name": "python",
      "nbconvert_exporter": "python",
      "pygments_lexer": "ipython3",
      "version": "3.8.8"
    },
    "colab": {
      "provenance": [],
      "include_colab_link": true
    }
  },
  "nbformat": 4,
  "nbformat_minor": 5
}