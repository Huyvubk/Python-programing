{
  "nbformat": 4,
  "nbformat_minor": 0,
  "metadata": {
    "colab": {
      "provenance": [],
      "include_colab_link": true
    },
    "kernelspec": {
      "name": "python3",
      "display_name": "Python 3"
    },
    "language_info": {
      "name": "python"
    }
  },
  "cells": [
    {
      "cell_type": "markdown",
      "metadata": {
        "id": "view-in-github",
        "colab_type": "text"
      },
      "source": [
        "<a href=\"https://colab.research.google.com/github/Huyvubk/Python-programing/blob/main/string.ipynb\" target=\"_parent\"><img src=\"https://colab.research.google.com/assets/colab-badge.svg\" alt=\"Open In Colab\"/></a>"
      ]
    },
    {
      "cell_type": "markdown",
      "metadata": {
        "id": "HSPsF5A1BhgU"
      },
      "source": [
        "**bold text**## HW1"
      ]
    },
    {
      "cell_type": "code",
      "metadata": {
        "id": "V2vFUEFPCZgE"
      },
      "source": [
        "xml_string = '''\n",
        "<book id=\"java101>\n",
        "  <author>Surbhi Kakar</author>\n",
        "  <title>Java Programming</title>\n",
        "  <genre>Computer</genre>\n",
        "  <price>30.0</price>\n",
        "  <publish_date>2010-08-01</publish_date>\n",
        "  <publisher>Dream Tech Press</publisher>\n",
        "  <description>A description here.</description>\n",
        "</book>\n",
        "'''"
      ],
      "execution_count": 3,
      "outputs": []
    },
    {
      "cell_type": "code",
      "metadata": {
        "id": "ZuN3kaurfWkg"
      },
      "source": [
        "xml_string = '''\n",
        "<book id=\"java101>\n",
        "  <author>Surbhi Kakar</author>\n",
        "  <title>Java Programming</title>\n",
        "  <genre>Computer</genre>\n",
        "  <price>30.0</price>\n",
        "  <publish_date>2010-08-01</publish_date>\n",
        "  <publisher>Dream Tech Press</publisher>\n",
        "  <description>A description here.</description>\n",
        "</book>\n",
        "'''\n",
        "\n",
        "element_name = {'author': '', \n",
        "                 'title': '', \n",
        "                 'genre': '', \n",
        "                 'price': '', \n",
        "                 'publish_date': '', \n",
        "                 'description': '',\n",
        "                }\n",
        "\n",
        "def parse_xml(xml_string, element_name):\n",
        "  # Clean string\n",
        "  cleaned_xml_string_list = []\n",
        "  for xml_s in xml_string.split('\\n'):\n",
        "    if xml_s:\n",
        "      cleaned_xml_string_list.append(xml_s.strip()) # other solutions\n",
        "  cleaned_xml_string = \"\".join(cleaned_xml_string_list)\n",
        "\n",
        "  # Loop, find element with openning & closing tag\n",
        "  for en in element_name.keys():\n",
        "    closing_tag = '</{}>'.format(en)\n",
        "    opening_tag = '<{}'.format(en)\n",
        "    \n",
        "    head = cleaned_xml_string.split(closing_tag)[0]\n",
        "    content = head.split(opening_tag)[-1]\n",
        "    start = content.find('>')\n",
        "    element = content[start+1:]\n",
        "\n",
        "    element_name[en] = element\n",
        "  # reutrn result\n",
        "  return element_name\n"
      ],
      "execution_count": 4,
      "outputs": []
    },
    {
      "cell_type": "code",
      "metadata": {
        "colab": {
          "base_uri": "https://localhost:8080/"
        },
        "id": "6d7Mn6qsiKzK",
        "outputId": "71937891-fa30-4fe4-e645-d295a05c5708"
      },
      "source": [
        "parse_xml(xml_string, element_name)"
      ],
      "execution_count": null,
      "outputs": [
        {
          "output_type": "execute_result",
          "data": {
            "text/plain": [
              "{'author': 'Surbhi Kakar',\n",
              " 'description': 'A description here.',\n",
              " 'genre': 'Computer',\n",
              " 'price': '30.0',\n",
              " 'publish_date': '2010-08-01',\n",
              " 'title': 'Java Programming'}"
            ]
          },
          "metadata": {
            "tags": []
          },
          "execution_count": 7
        }
      ]
    },
    {
      "cell_type": "code",
      "metadata": {
        "id": "DJDtr10ClcYg"
      },
      "source": [],
      "execution_count": null,
      "outputs": []
    },
    {
      "cell_type": "code",
      "metadata": {
        "id": "kgImvXMflcW4"
      },
      "source": [],
      "execution_count": null,
      "outputs": []
    },
    {
      "cell_type": "markdown",
      "metadata": {
        "id": "miVBfmfrlZyA"
      },
      "source": [
        "---------------------------------------------------------------------------"
      ]
    },
    {
      "cell_type": "code",
      "metadata": {
        "id": "frgm_WnlfWyU",
        "colab": {
          "base_uri": "https://localhost:8080/",
          "height": 36
        },
        "outputId": "37d0ae8c-b751-451a-8b7b-0772a4236b72"
      },
      "source": [
        "json_string = '''\n",
        "{\n",
        "  'author': 'Surbhi Kakar', \n",
        "  'title': 'Java Programming', \n",
        "  'genre': 'Computer', \n",
        "  'price': '30.0', \n",
        "  'publish_date': '2010-08-01', \n",
        "  'description': 'A description here.'\n",
        "}\n",
        "'''\n",
        "\n",
        "json_string"
      ],
      "execution_count": 5,
      "outputs": [
        {
          "output_type": "execute_result",
          "data": {
            "text/plain": [
              "\"\\n{\\n  'author': 'Surbhi Kakar', \\n  'title': 'Java Programming', \\n  'genre': 'Computer', \\n  'price': '30.0', \\n  'publish_date': '2010-08-01', \\n  'description': 'A description here.'\\n}\\n\""
            ],
            "application/vnd.google.colaboratory.intrinsic+json": {
              "type": "string"
            }
          },
          "metadata": {},
          "execution_count": 5
        }
      ]
    },
    {
      "cell_type": "code",
      "metadata": {
        "id": "nW9rI-HQfW5V"
      },
      "source": [
        "json_string = '''\n",
        "{\n",
        "  'author': 'Surbhi Kakar', \n",
        "  'title': 'Java Programming', \n",
        "  'genre': 'Computer', \n",
        "  'price': '30.0', \n",
        "  'publish_date': '2010-08-01', \n",
        "  'description': 'A description here.'\n",
        "}\n",
        "'''\n",
        "\n",
        "key_name = {'author': '', \n",
        "                 'title': '', \n",
        "                 'genre': '', \n",
        "                 'price': '', \n",
        "                 'publish_date': '', \n",
        "                 'description': ''}\n",
        "\n",
        "def parse_json(json_string, key_name):\n",
        "  # clean json string\n",
        "  cleaned_json_string_list = []\n",
        "  for js in json_string.split('\\n'):\n",
        "    if js:\n",
        "      cleaned_json_string_list.append(js.strip())\n",
        "\n",
        "  # loop, get value \n",
        "  for kn in key_name.keys():\n",
        "    for s in cleaned_json_string_list:\n",
        "      if (s.find(kn) < s.find(':')) and (s.find(kn) >= 0):\n",
        "        key_name[kn] = s.split(':')[-1].strip().replace(\",\",\"\")\n",
        "     \n",
        "  # return result\n",
        "  return key_name"
      ],
      "execution_count": 6,
      "outputs": []
    },
    {
      "cell_type": "code",
      "metadata": {
        "id": "6Oec3DtrkUep",
        "colab": {
          "base_uri": "https://localhost:8080/"
        },
        "outputId": "b92887a7-7c26-47f9-d942-255ec5a554d2"
      },
      "source": [
        "parse_json(json_string, key_name)"
      ],
      "execution_count": 7,
      "outputs": [
        {
          "output_type": "execute_result",
          "data": {
            "text/plain": [
              "{'author': \"'Surbhi Kakar'\",\n",
              " 'title': \"'Java Programming'\",\n",
              " 'genre': \"'Computer'\",\n",
              " 'price': \"'30.0'\",\n",
              " 'publish_date': \"'2010-08-01'\",\n",
              " 'description': \"'A description here.'\"}"
            ]
          },
          "metadata": {},
          "execution_count": 7
        }
      ]
    },
    {
      "cell_type": "markdown",
      "metadata": {
        "id": "1XaR_4L_fU2z"
      },
      "source": [
        "## HW2"
      ]
    },
    {
      "cell_type": "code",
      "metadata": {
        "id": "aNy1WbzYg2II"
      },
      "source": [],
      "execution_count": 7,
      "outputs": []
    },
    {
      "cell_type": "markdown",
      "metadata": {
        "id": "vWa2loeRUHyX"
      },
      "source": [
        "Cho 1 chuỗi s đại diên cho 1 biểu thức, viết chương trình thực hiện biểu thức đó và trả về kết quả cuối cùng.\n",
        "\n",
        "**Điều kiện**:\n",
        "- Khi thực phép chia thì làm tròn số gần tiến về 0 nhất (ví dụ 5/2 = 2, -5/2=-2)\n",
        "- Độ dài của chuỗi s từ 1-100.\n",
        "- s chỉ bao gồm các số nguyên và phép toán ('+', '-', '*', '/')\n",
        "- Tất cả các số trong s là số nguyên dương 0-100\n",
        "\n",
        "Ví dụ \n",
        "s = \" 3 - 5/2 \" -> 1\n",
        "\n",
        "s = \"3-5/2\" -> 1"
      ]
    },
    {
      "cell_type": "markdown",
      "metadata": {
        "id": "JbsAOYwQzT2u"
      },
      "source": [
        "**Phân tích**\n",
        "- Làm tròn tiến về gần 0, \n",
        "    - 5/2 = 2.5 => 2\n",
        "    - -5/2 = -2.5 +> -2\n",
        "\n",
        "**Solution**\n",
        "- Không có toán tử \"(\" \")\" độ ưu tiên cao nhất là \"*\" hoặc \"/\" và thực hiện phép tính từ trái sang phải \n",
        "- Dấu + xem là số dương \n",
        "- Dấu - xem là só âm \n",
        "- Thực hiện phép tính \"*/\"\n",
        "- Đưa các số hạng (duyệt từ số cho đến khi toán tử xuất hiện) và các số hạng đã tính toán trước đó vào 1 stack \n",
        "- Tính toán thực hiện trên top của stack với số hiện tại \n",
        "- Sau khi duyệt hết string thực hiện phép sum \n"
      ]
    },
    {
      "cell_type": "code",
      "metadata": {
        "id": "IGmY0rnc26R8"
      },
      "source": [
        "def calcualte(s):\n",
        "  def div(num1, num2):\n",
        "    # assume num2 != 0\n",
        "    result = None \n",
        "    if num1 >=0:\n",
        "      result = num1//num2\n",
        "    else:\n",
        "      result = (num1//num2) + 1\n",
        "    return result  \n",
        "\n",
        "  operators = \"+-*/\"\n",
        "  # nums = \"0123456789\"\n",
        "  currentNum = ''\n",
        "  currentOp = '+' # assume positive numbers\n",
        "  stack = []\n",
        "  len_s = len(s)\n",
        "  for i in range(len_s):\n",
        "    char = s[i]\n",
        "    if char.isspace() and (i < len(s)-1):\n",
        "      continue\n",
        "    # Find num\n",
        "    if char.isdigit():\n",
        "      currentNum += char\n",
        "    \n",
        "    # operator or end of string \n",
        "    if char in operators or (i==len(s)-1):\n",
        "      if currentOp == \"+\":\n",
        "        stack.append(int(currentNum))\n",
        "      elif currentOp == \"-\":\n",
        "        stack.append(-int(currentNum))\n",
        "      elif currentOp == \"*\":\n",
        "        stack[-1] = stack[-1]*int(currentNum)\n",
        "      elif currentOp == \"/\":\n",
        "        stack[-1] = div(stack[-1],int(currentNum))\n",
        "        # Skip, assume valid expression\n",
        "        # if stack[-1] is None:\n",
        "        #   raise error \n",
        "      currentNum = ''\n",
        "      currentOp = char\n",
        "  # print(stack)\n",
        "  return sum(stack)\n",
        "\n"
      ],
      "execution_count": 8,
      "outputs": []
    },
    {
      "cell_type": "markdown",
      "metadata": {
        "id": "Rb5P2l_C2cha"
      },
      "source": [
        "## HW3\n",
        "    \n"
      ]
    },
    {
      "cell_type": "markdown",
      "metadata": {
        "id": "Eost8T6zAzjY"
      },
      "source": [
        "Cho một chuỗi **coded_str** chữ các ký tự đã được mã hóa theo cách sau **k[string]**. Trong đó **k** là số lần string trong dấu [] sẽ được lập lại.\n",
        "\n",
        "Điều kiện:\n",
        "**coded_str**: là các chuỗi các ký tự tiếng Anh, trong đó **string** chỉ được là [a->z] và [A-Z] không có ký tự đăc biệt và không phải là số. Nếu là số thì bắt buộc phải là **k** và đứng trước [].\n",
        "\n",
        "Ví Dụ:\n",
        "\n",
        "Input: coded_str = \"2[abc]3[cd]ef\"\n",
        "\n",
        "Output: \"abcabccdcdcdef\"\n",
        "\n",
        "-----------------------------------\n",
        "\n",
        "Input: coded_str = \"abc3[cd]xyz\"\n",
        "\n",
        "Output: \"abccdcdcdxyz\"\n"
      ]
    },
    {
      "cell_type": "markdown",
      "metadata": {
        "id": "44MURCN1BmqJ"
      },
      "source": [
        "**Phân tích**\n",
        "- k là số lần string trong [] in ra \n",
        "- Không có ký tự đặc biệt, và nếu là số thì đó là k\n",
        "- và k bắt buộc phải đứng trước [] \n",
        "\n",
        "**Solution**\n",
        "- stack có chuỗi và số lần lập \n",
        "- Phân biệt chuỗi thường và chuỗ lập bằng các kiểm tra chữ cái có phải là số không\n",
        "- Nếu là chuỗi thường thì đưa vào stack.\n",
        "- Nếu là số thì duyệt đến \"[\" để thu thập được số lần cần lập và đưa vào stack \n",
        "-  '[' và ']' để biết vị trí bắt đầu và kết thúc của chuỗi cần lập \n",
        "- Khi lập xong thì đưa và chuỗi kết quả.\n",
        "- Trả về chuỗi kết quả\n"
      ]
    },
    {
      "cell_type": "code",
      "metadata": {
        "id": "e3-1Sz_fA33D"
      },
      "source": [
        "def decodeString(encodedString):\n",
        "  string = \"\"\n",
        "  k = 0  \n",
        "  stack = [] # string and k\n",
        "  for es in encodedString:\n",
        "    # find k\n",
        "    if es.isdigit():\n",
        "      k = k*10 + int(es)\n",
        "    # push to string and k to stack\n",
        "    elif  es == \"[\":\n",
        "      stack.append(string)\n",
        "      stack.append(k)\n",
        "      string = '' # next string is in []\n",
        "      k = 0 \n",
        "    # get string \n",
        "    elif  es.isalpha():\n",
        "      string += es\n",
        "    elif  es == \"]\":\n",
        "      num = stack.pop()\n",
        "      pre_string = stack.pop()\n",
        "      string = pre_string + num*string \n",
        "  return string\n",
        "\n",
        "    "
      ],
      "execution_count": 9,
      "outputs": []
    },
    {
      "cell_type": "code",
      "metadata": {
        "colab": {
          "base_uri": "https://localhost:8080/",
          "height": 36
        },
        "id": "i9DqsG5fK87I",
        "outputId": "60014a65-77aa-4407-c3cf-3d8850e8b9b6"
      },
      "source": [
        "coded_str1 = \"2[abc]3[cd]ef\"\n",
        "decodeString(coded_str1)"
      ],
      "execution_count": 10,
      "outputs": [
        {
          "output_type": "execute_result",
          "data": {
            "text/plain": [
              "'abcabccdcdcdef'"
            ],
            "application/vnd.google.colaboratory.intrinsic+json": {
              "type": "string"
            }
          },
          "metadata": {},
          "execution_count": 10
        }
      ]
    },
    {
      "cell_type": "code",
      "metadata": {
        "colab": {
          "base_uri": "https://localhost:8080/",
          "height": 36
        },
        "id": "Nnjl9X-KK9Bl",
        "outputId": "1a2d7d6d-b504-4851-e2c1-68d926885ad0"
      },
      "source": [
        "coded_str2 = \"abc3[cd]xyz\"\n",
        "decodeString(coded_str2)"
      ],
      "execution_count": 11,
      "outputs": [
        {
          "output_type": "execute_result",
          "data": {
            "text/plain": [
              "'abccdcdcdxyz'"
            ],
            "application/vnd.google.colaboratory.intrinsic+json": {
              "type": "string"
            }
          },
          "metadata": {},
          "execution_count": 11
        }
      ]
    },
    {
      "cell_type": "code",
      "metadata": {
        "id": "8KjEIED2LEBk"
      },
      "source": [],
      "execution_count": null,
      "outputs": []
    }
  ]
}